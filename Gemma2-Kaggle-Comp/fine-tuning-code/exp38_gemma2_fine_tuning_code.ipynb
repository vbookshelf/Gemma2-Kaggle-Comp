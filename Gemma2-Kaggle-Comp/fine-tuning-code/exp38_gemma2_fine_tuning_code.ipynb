{
 "cells": [
  {
   "cell_type": "code",
   "execution_count": null,
   "metadata": {
    "id": "S1EyfZckiTu7",
    "papermill": {
     "duration": 0.045095,
     "end_time": "2024-08-31T10:08:07.669719",
     "exception": false,
     "start_time": "2024-08-31T10:08:07.624624",
     "status": "completed"
    },
    "tags": []
   },
   "outputs": [],
   "source": []
  },
  {
   "cell_type": "code",
   "execution_count": 1,
   "metadata": {
    "_kg_hide-output": true,
    "id": "GLXwJqbjtPho",
    "outputId": "d5ccfca2-4d1c-41f7-9e5b-6b5ed4832d23",
    "papermill": {
     "duration": 20.174605,
     "end_time": "2024-08-31T10:08:27.879037",
     "exception": false,
     "start_time": "2024-08-31T10:08:07.704432",
     "status": "completed"
    },
    "tags": []
   },
   "outputs": [
    {
     "name": "stdout",
     "output_type": "stream",
     "text": [
      "\u001b[33mWARNING: Running pip as the 'root' user can result in broken permissions and conflicting behaviour with the system package manager. It is recommended to use a virtual environment instead: https://pip.pypa.io/warnings/venv\u001b[0m\u001b[33m\n",
      "\u001b[0m\n",
      "\u001b[1m[\u001b[0m\u001b[34;49mnotice\u001b[0m\u001b[1;39;49m]\u001b[0m\u001b[39;49m A new release of pip is available: \u001b[0m\u001b[31;49m23.3.1\u001b[0m\u001b[39;49m -> \u001b[0m\u001b[32;49m24.2\u001b[0m\n",
      "\u001b[1m[\u001b[0m\u001b[34;49mnotice\u001b[0m\u001b[1;39;49m]\u001b[0m\u001b[39;49m To update, run: \u001b[0m\u001b[32;49mpython -m pip install --upgrade pip\u001b[0m\n",
      "\u001b[33mWARNING: Running pip as the 'root' user can result in broken permissions and conflicting behaviour with the system package manager. It is recommended to use a virtual environment instead: https://pip.pypa.io/warnings/venv\u001b[0m\u001b[33m\n",
      "\u001b[0m\n",
      "\u001b[1m[\u001b[0m\u001b[34;49mnotice\u001b[0m\u001b[1;39;49m]\u001b[0m\u001b[39;49m A new release of pip is available: \u001b[0m\u001b[31;49m23.3.1\u001b[0m\u001b[39;49m -> \u001b[0m\u001b[32;49m24.2\u001b[0m\n",
      "\u001b[1m[\u001b[0m\u001b[34;49mnotice\u001b[0m\u001b[1;39;49m]\u001b[0m\u001b[39;49m To update, run: \u001b[0m\u001b[32;49mpython -m pip install --upgrade pip\u001b[0m\n",
      "\u001b[33mWARNING: Running pip as the 'root' user can result in broken permissions and conflicting behaviour with the system package manager. It is recommended to use a virtual environment instead: https://pip.pypa.io/warnings/venv\u001b[0m\u001b[33m\n",
      "\u001b[0m\n",
      "\u001b[1m[\u001b[0m\u001b[34;49mnotice\u001b[0m\u001b[1;39;49m]\u001b[0m\u001b[39;49m A new release of pip is available: \u001b[0m\u001b[31;49m23.3.1\u001b[0m\u001b[39;49m -> \u001b[0m\u001b[32;49m24.2\u001b[0m\n",
      "\u001b[1m[\u001b[0m\u001b[34;49mnotice\u001b[0m\u001b[1;39;49m]\u001b[0m\u001b[39;49m To update, run: \u001b[0m\u001b[32;49mpython -m pip install --upgrade pip\u001b[0m\n",
      "\u001b[33mWARNING: Running pip as the 'root' user can result in broken permissions and conflicting behaviour with the system package manager. It is recommended to use a virtual environment instead: https://pip.pypa.io/warnings/venv\u001b[0m\u001b[33m\n",
      "\u001b[0m\n",
      "\u001b[1m[\u001b[0m\u001b[34;49mnotice\u001b[0m\u001b[1;39;49m]\u001b[0m\u001b[39;49m A new release of pip is available: \u001b[0m\u001b[31;49m23.3.1\u001b[0m\u001b[39;49m -> \u001b[0m\u001b[32;49m24.2\u001b[0m\n",
      "\u001b[1m[\u001b[0m\u001b[34;49mnotice\u001b[0m\u001b[1;39;49m]\u001b[0m\u001b[39;49m To update, run: \u001b[0m\u001b[32;49mpython -m pip install --upgrade pip\u001b[0m\n",
      "\u001b[33mWARNING: Running pip as the 'root' user can result in broken permissions and conflicting behaviour with the system package manager. It is recommended to use a virtual environment instead: https://pip.pypa.io/warnings/venv\u001b[0m\u001b[33m\n",
      "\u001b[0m\n",
      "\u001b[1m[\u001b[0m\u001b[34;49mnotice\u001b[0m\u001b[1;39;49m]\u001b[0m\u001b[39;49m A new release of pip is available: \u001b[0m\u001b[31;49m23.3.1\u001b[0m\u001b[39;49m -> \u001b[0m\u001b[32;49m24.2\u001b[0m\n",
      "\u001b[1m[\u001b[0m\u001b[34;49mnotice\u001b[0m\u001b[1;39;49m]\u001b[0m\u001b[39;49m To update, run: \u001b[0m\u001b[32;49mpython -m pip install --upgrade pip\u001b[0m\n",
      "\u001b[33mWARNING: Running pip as the 'root' user can result in broken permissions and conflicting behaviour with the system package manager. It is recommended to use a virtual environment instead: https://pip.pypa.io/warnings/venv\u001b[0m\u001b[33m\n",
      "\u001b[0m\n",
      "\u001b[1m[\u001b[0m\u001b[34;49mnotice\u001b[0m\u001b[1;39;49m]\u001b[0m\u001b[39;49m A new release of pip is available: \u001b[0m\u001b[31;49m23.3.1\u001b[0m\u001b[39;49m -> \u001b[0m\u001b[32;49m24.2\u001b[0m\n",
      "\u001b[1m[\u001b[0m\u001b[34;49mnotice\u001b[0m\u001b[1;39;49m]\u001b[0m\u001b[39;49m To update, run: \u001b[0m\u001b[32;49mpython -m pip install --upgrade pip\u001b[0m\n",
      "\u001b[33mWARNING: Running pip as the 'root' user can result in broken permissions and conflicting behaviour with the system package manager. It is recommended to use a virtual environment instead: https://pip.pypa.io/warnings/venv\u001b[0m\u001b[33m\n",
      "\u001b[0m\n",
      "\u001b[1m[\u001b[0m\u001b[34;49mnotice\u001b[0m\u001b[1;39;49m]\u001b[0m\u001b[39;49m A new release of pip is available: \u001b[0m\u001b[31;49m23.3.1\u001b[0m\u001b[39;49m -> \u001b[0m\u001b[32;49m24.2\u001b[0m\n",
      "\u001b[1m[\u001b[0m\u001b[34;49mnotice\u001b[0m\u001b[1;39;49m]\u001b[0m\u001b[39;49m To update, run: \u001b[0m\u001b[32;49mpython -m pip install --upgrade pip\u001b[0m\n",
      "\u001b[33mWARNING: Running pip as the 'root' user can result in broken permissions and conflicting behaviour with the system package manager. It is recommended to use a virtual environment instead: https://pip.pypa.io/warnings/venv\u001b[0m\u001b[33m\n",
      "\u001b[0m\n",
      "\u001b[1m[\u001b[0m\u001b[34;49mnotice\u001b[0m\u001b[1;39;49m]\u001b[0m\u001b[39;49m A new release of pip is available: \u001b[0m\u001b[31;49m23.3.1\u001b[0m\u001b[39;49m -> \u001b[0m\u001b[32;49m24.2\u001b[0m\n",
      "\u001b[1m[\u001b[0m\u001b[34;49mnotice\u001b[0m\u001b[1;39;49m]\u001b[0m\u001b[39;49m To update, run: \u001b[0m\u001b[32;49mpython -m pip install --upgrade pip\u001b[0m\n",
      "\u001b[33mWARNING: Running pip as the 'root' user can result in broken permissions and conflicting behaviour with the system package manager. It is recommended to use a virtual environment instead: https://pip.pypa.io/warnings/venv\u001b[0m\u001b[33m\n",
      "\u001b[0m\n",
      "\u001b[1m[\u001b[0m\u001b[34;49mnotice\u001b[0m\u001b[1;39;49m]\u001b[0m\u001b[39;49m A new release of pip is available: \u001b[0m\u001b[31;49m23.3.1\u001b[0m\u001b[39;49m -> \u001b[0m\u001b[32;49m24.2\u001b[0m\n",
      "\u001b[1m[\u001b[0m\u001b[34;49mnotice\u001b[0m\u001b[1;39;49m]\u001b[0m\u001b[39;49m To update, run: \u001b[0m\u001b[32;49mpython -m pip install --upgrade pip\u001b[0m\n"
     ]
    }
   ],
   "source": [
    "!pip install -q accelerate\n",
    "!pip install -q peft\n",
    "!pip install -q bitsandbytes\n",
    "!pip install -q trl\n",
    "\n",
    "!pip install -q pandas\n",
    "!pip install -q transformers\n",
    "!pip install -q torch\n",
    "!pip install -q datasets\n",
    "!pip install -q flash_attn\n",
    "#!pip -q install scikit-learn"
   ]
  },
  {
   "cell_type": "code",
   "execution_count": 2,
   "metadata": {
    "id": "11Y9ZqDx4WXl",
    "outputId": "d8e8b3c1-bf00-41fd-b609-9db907241feb"
   },
   "outputs": [
    {
     "name": "stdout",
     "output_type": "stream",
     "text": [
      "\u001b[33mWARNING: Running pip as the 'root' user can result in broken permissions and conflicting behaviour with the system package manager. It is recommended to use a virtual environment instead: https://pip.pypa.io/warnings/venv\u001b[0m\u001b[33m\n",
      "\u001b[0m\n",
      "\u001b[1m[\u001b[0m\u001b[34;49mnotice\u001b[0m\u001b[1;39;49m]\u001b[0m\u001b[39;49m A new release of pip is available: \u001b[0m\u001b[31;49m23.3.1\u001b[0m\u001b[39;49m -> \u001b[0m\u001b[32;49m24.2\u001b[0m\n",
      "\u001b[1m[\u001b[0m\u001b[34;49mnotice\u001b[0m\u001b[1;39;49m]\u001b[0m\u001b[39;49m To update, run: \u001b[0m\u001b[32;49mpython -m pip install --upgrade pip\u001b[0m\n",
      "\u001b[33mWARNING: Running pip as the 'root' user can result in broken permissions and conflicting behaviour with the system package manager. It is recommended to use a virtual environment instead: https://pip.pypa.io/warnings/venv\u001b[0m\u001b[33m\n",
      "\u001b[0m\n",
      "\u001b[1m[\u001b[0m\u001b[34;49mnotice\u001b[0m\u001b[1;39;49m]\u001b[0m\u001b[39;49m A new release of pip is available: \u001b[0m\u001b[31;49m23.3.1\u001b[0m\u001b[39;49m -> \u001b[0m\u001b[32;49m24.2\u001b[0m\n",
      "\u001b[1m[\u001b[0m\u001b[34;49mnotice\u001b[0m\u001b[1;39;49m]\u001b[0m\u001b[39;49m To update, run: \u001b[0m\u001b[32;49mpython -m pip install --upgrade pip\u001b[0m\n"
     ]
    }
   ],
   "source": [
    "!pip install -q sentence-transformers\n",
    "!pip install -q faiss-gpu"
   ]
  },
  {
   "cell_type": "code",
   "execution_count": null,
   "metadata": {
    "id": "s-V85sAh4ciu"
   },
   "outputs": [],
   "source": []
  },
  {
   "cell_type": "code",
   "execution_count": 3,
   "metadata": {
    "id": "nAMzy_0FtaUZ",
    "outputId": "c211ebba-ea05-4d5a-eca3-5c4cfd5b1164",
    "papermill": {
     "duration": 21.043508,
     "end_time": "2024-08-31T10:08:48.957727",
     "exception": false,
     "start_time": "2024-08-31T10:08:27.914219",
     "status": "completed"
    },
    "tags": []
   },
   "outputs": [
    {
     "name": "stdout",
     "output_type": "stream",
     "text": [
      "CUDA Version 12.1\n",
      "Pytorch 2.1.1+cu121\n",
      "Transformers 4.45.2\n"
     ]
    }
   ],
   "source": [
    "import pandas as pd\n",
    "import numpy as np\n",
    "import os\n",
    "\n",
    "import transformers\n",
    "\n",
    "import torch\n",
    "from datasets import load_dataset\n",
    "from transformers import (\n",
    "    AutoModelForCausalLM,\n",
    "    AutoTokenizer,\n",
    "    BitsAndBytesConfig,\n",
    "    HfArgumentParser,\n",
    "    TrainingArguments,\n",
    "    pipeline,\n",
    "    logging,\n",
    "    set_seed\n",
    ")\n",
    "\n",
    "from transformers import logging\n",
    "\n",
    "from peft import LoraConfig, PeftModel\n",
    "from trl import SFTTrainer\n",
    "\n",
    "from tqdm import tqdm\n",
    "\n",
    "# Don't Show Warning Messages\n",
    "import warnings\n",
    "warnings.filterwarnings('ignore')\n",
    "\n",
    "print(f\"CUDA Version {torch.version.cuda}\")\n",
    "print(f\"Pytorch {torch.__version__}\")\n",
    "print(f\"Transformers {transformers.__version__}\")"
   ]
  },
  {
   "cell_type": "code",
   "execution_count": 16,
   "metadata": {
    "id": "VEuGkC4aSxsH"
   },
   "outputs": [],
   "source": [
    "#from kaggle_secrets import UserSecretsClient\n",
    "\n",
    "#user_secrets = UserSecretsClient()\n",
    "#HF_ACCESS_TOKEN = user_secrets.get_secret(\"HF_ACCESS_TOKEN\")\n",
    "\n",
    "HF_ACCESS_TOKEN = \"YOUR_HUGGINGFACE_TOKEN\""
   ]
  },
  {
   "cell_type": "code",
   "execution_count": 17,
   "metadata": {
    "id": "Pzct3JjKSxsH",
    "outputId": "f08a42b6-1831-4d30-feb2-0022b7bdf9c5",
    "papermill": {
     "duration": 0.265813,
     "end_time": "2024-08-31T10:08:49.258416",
     "exception": false,
     "start_time": "2024-08-31T10:08:48.992603",
     "status": "completed"
    },
    "tags": []
   },
   "outputs": [
    {
     "name": "stdout",
     "output_type": "stream",
     "text": [
      "Num CPUs: 96\n",
      "Num GPUs: 1\n",
      "GPU Type: NVIDIA A40\n",
      "bf16 supported: True\n"
     ]
    }
   ],
   "source": [
    "# Check the type and quantity of GPUs\n",
    "# Note: Kaggle GPUs don't support flash attention\n",
    "\n",
    "if torch.cuda.is_available():\n",
    "    print('Num CPUs:', os.cpu_count())\n",
    "    print('Num GPUs:', torch.cuda.device_count())\n",
    "    print('GPU Type:', torch.cuda.get_device_name(0))\n",
    "\n",
    "    # Check if bf16 is suported\n",
    "    print(\"bf16 supported:\",torch.cuda.is_bf16_supported())"
   ]
  },
  {
   "cell_type": "markdown",
   "metadata": {
    "id": "KjLB-u_zSxsI",
    "papermill": {
     "duration": 0.034332,
     "end_time": "2024-08-31T10:08:49.327591",
     "exception": false,
     "start_time": "2024-08-31T10:08:49.293259",
     "status": "completed"
    },
    "tags": []
   },
   "source": [
    "## Settings"
   ]
  },
  {
   "cell_type": "code",
   "execution_count": 18,
   "metadata": {
    "id": "zx1XGyzBSxsK",
    "papermill": {
     "duration": 0.042439,
     "end_time": "2024-08-31T10:08:49.404443",
     "exception": false,
     "start_time": "2024-08-31T10:08:49.362004",
     "status": "completed"
    },
    "tags": []
   },
   "outputs": [],
   "source": [
    "# Paths to the two csv files containing the synthetic data\n",
    "DATA_PATH_1 = 'exp18-cleaned_afrikaans_childrens_stories.csv'\n",
    "DATA_PATH_2 = 'exp37-cleaned_afrikaans_childrens_stories.csv'\n",
    "\n",
    "DEVICE = \"cuda\""
   ]
  },
  {
   "cell_type": "code",
   "execution_count": 19,
   "metadata": {
    "id": "E4vTXjQXAzBz"
   },
   "outputs": [],
   "source": [
    "# Set logging level to suppress unnecessary output\n",
    "\n",
    "from transformers import logging\n",
    "\n",
    "# Suppress huggingface info messages and only show errors\n",
    "logging.set_verbosity_error()"
   ]
  },
  {
   "cell_type": "markdown",
   "metadata": {
    "id": "3TAkuV7UAzBz"
   },
   "source": [
    "## Helper functions"
   ]
  },
  {
   "cell_type": "code",
   "execution_count": 20,
   "metadata": {
    "id": "PAoGJ2UpAzB0"
   },
   "outputs": [],
   "source": [
    "def run_inference(moral_value):\n",
    "\n",
    "    system_message = \"You are an expert at writing South African children's stories that teach children moral values and life lessons. You will be given a moral value. Write a captivating children's story in South African Arikaans that includes the moral value.\"\n",
    "    prompt =  f\"Below is an instruction that describes a task, paired with an input that provides further context. Write a response that appropriately completes the request.\\n\\n### Instruction:\\n{system_message}\\n\\n### Input:\\n{moral_value}\\n\\n### Response:\\n\"\n",
    "\n",
    "    # The tkenizer automatically adds a <bos> token\n",
    "    inputs = tokenizer(prompt, return_tensors=\"pt\")\n",
    "\n",
    "    # Send the inputs to the device\n",
    "    inputs = inputs.to(DEVICE)\n",
    "\n",
    "    \"\"\"\n",
    "    # This will create deterministic outputs\n",
    "\n",
    "    # Generate the outputs from prompt\n",
    "    generate_ids = model.generate(**inputs,\n",
    "                                  max_new_tokens=1024,\n",
    "                                  do_sample=False,\n",
    "                                  temperature=0.5,\n",
    "                                  )\n",
    "    \"\"\"\n",
    "\n",
    "    # Generate the outputs from prompt with sampling enabled\n",
    "    generate_ids = model.generate(**inputs,\n",
    "                                  max_new_tokens=1024,\n",
    "                                  do_sample=True,   # Enable sampling for variability\n",
    "                                  temperature=0.8,  # Adjust for more randomness\n",
    "                                  top_k=50,         # Limit to top-k tokens\n",
    "                                  top_p=0.95,       # Or use nucleus sampling (top-p)\n",
    "                                  )\n",
    "\n",
    "    # Decode the generated output\n",
    "    generated_text = tokenizer.batch_decode(generate_ids,\n",
    "                                        skip_special_tokens=False,\n",
    "                                        clean_up_tokenization_spaces=False)[0]\n",
    "\n",
    "    #print(generated_text)\n",
    "\n",
    "    # Extract the response\n",
    "    response = generated_text.split('### Response:')[1]\n",
    "    # Remove the <eos> token\n",
    "    response = response.replace('<eos>', \"\")\n",
    "    # Remove leading and trailing spaces\n",
    "    response = response.strip()\n",
    "\n",
    "\n",
    "    return response, generated_text\n"
   ]
  },
  {
   "cell_type": "markdown",
   "metadata": {
    "id": "24v0r0UtSxsM",
    "papermill": {
     "duration": 0.033876,
     "end_time": "2024-08-31T10:08:49.608874",
     "exception": false,
     "start_time": "2024-08-31T10:08:49.574998",
     "status": "completed"
    },
    "tags": []
   },
   "source": [
    "## Load the data"
   ]
  },
  {
   "cell_type": "code",
   "execution_count": 21,
   "metadata": {
    "id": "KImdkpMRSxsM",
    "outputId": "6e20877c-a832-41f4-9a6c-1ae981544add",
    "papermill": {
     "duration": 3.713415,
     "end_time": "2024-08-31T10:08:53.357287",
     "exception": false,
     "start_time": "2024-08-31T10:08:49.643872",
     "status": "completed"
    },
    "tags": []
   },
   "outputs": [
    {
     "name": "stdout",
     "output_type": "stream",
     "text": [
      "(564, 8)\n"
     ]
    },
    {
     "data": {
      "text/html": [
       "<div>\n",
       "<style scoped>\n",
       "    .dataframe tbody tr th:only-of-type {\n",
       "        vertical-align: middle;\n",
       "    }\n",
       "\n",
       "    .dataframe tbody tr th {\n",
       "        vertical-align: top;\n",
       "    }\n",
       "\n",
       "    .dataframe thead th {\n",
       "        text-align: right;\n",
       "    }\n",
       "</style>\n",
       "<table border=\"1\" class=\"dataframe\">\n",
       "  <thead>\n",
       "    <tr style=\"text-align: right;\">\n",
       "      <th></th>\n",
       "      <th>input_for_prompt_gen</th>\n",
       "      <th>prompt</th>\n",
       "      <th>prompt_language</th>\n",
       "      <th>moral_value</th>\n",
       "      <th>first_draft</th>\n",
       "      <th>final_draft</th>\n",
       "      <th>changes_made</th>\n",
       "      <th>translation</th>\n",
       "    </tr>\n",
       "  </thead>\n",
       "  <tbody>\n",
       "    <tr>\n",
       "      <th>0</th>\n",
       "      <td>\\n    You are an expert at creating prompts th...</td>\n",
       "      <td>Write a South African Afrikaans children's sto...</td>\n",
       "      <td>British English</td>\n",
       "      <td>Kindness – Showing care and consideration for ...</td>\n",
       "      <td>## Klein Karoo se Groot Hart\\n\\nKlein Karoo wa...</td>\n",
       "      <td>Klein Karoo se Groot Hart\\n\\nKlein Karoo was '...</td>\n",
       "      <td>The original story was already quite good, but...</td>\n",
       "      <td>## Little Karoo's Big Heart\\n\\nLittle Karoo wa...</td>\n",
       "    </tr>\n",
       "    <tr>\n",
       "      <th>1</th>\n",
       "      <td>\\n    You are an expert at creating prompts th...</td>\n",
       "      <td>Skep 'n Suid-Afrikaanse kinderverhaal in natuu...</td>\n",
       "      <td>Afrikaans</td>\n",
       "      <td>Honesty – Valuing truth and integrity in words...</td>\n",
       "      <td>## Klein Karoo se Groot Geheim\\n\\nKlein Karoo,...</td>\n",
       "      <td>Klein Karoo se Groot Bessie-Geheim\\n\\nKlein Ka...</td>\n",
       "      <td>The following changes were made to improve the...</td>\n",
       "      <td>## Little Karoo's Big Berry Secret\\n\\nLittle K...</td>\n",
       "    </tr>\n",
       "    <tr>\n",
       "      <th>2</th>\n",
       "      <td>\\n    You are an expert at creating prompts th...</td>\n",
       "      <td>Write a South African children's story in Afri...</td>\n",
       "      <td>British English</td>\n",
       "      <td>Courage – Encouraging bravery to face fears an...</td>\n",
       "      <td>## Klein Klein Leeutjie se Groot Moed\\n\\nKlein...</td>\n",
       "      <td>Leo se Groot Moed\\n\\nKlein Leo, of Leon soos s...</td>\n",
       "      <td>The following changes were made to improve the...</td>\n",
       "      <td>## Leo's Great Courage\\n\\nLittle Leo, or Leon ...</td>\n",
       "    </tr>\n",
       "  </tbody>\n",
       "</table>\n",
       "</div>"
      ],
      "text/plain": [
       "                                input_for_prompt_gen  \\\n",
       "0  \\n    You are an expert at creating prompts th...   \n",
       "1  \\n    You are an expert at creating prompts th...   \n",
       "2  \\n    You are an expert at creating prompts th...   \n",
       "\n",
       "                                              prompt  prompt_language  \\\n",
       "0  Write a South African Afrikaans children's sto...  British English   \n",
       "1  Skep 'n Suid-Afrikaanse kinderverhaal in natuu...        Afrikaans   \n",
       "2  Write a South African children's story in Afri...  British English   \n",
       "\n",
       "                                         moral_value  \\\n",
       "0  Kindness – Showing care and consideration for ...   \n",
       "1  Honesty – Valuing truth and integrity in words...   \n",
       "2  Courage – Encouraging bravery to face fears an...   \n",
       "\n",
       "                                         first_draft  \\\n",
       "0  ## Klein Karoo se Groot Hart\\n\\nKlein Karoo wa...   \n",
       "1  ## Klein Karoo se Groot Geheim\\n\\nKlein Karoo,...   \n",
       "2  ## Klein Klein Leeutjie se Groot Moed\\n\\nKlein...   \n",
       "\n",
       "                                         final_draft  \\\n",
       "0  Klein Karoo se Groot Hart\\n\\nKlein Karoo was '...   \n",
       "1  Klein Karoo se Groot Bessie-Geheim\\n\\nKlein Ka...   \n",
       "2  Leo se Groot Moed\\n\\nKlein Leo, of Leon soos s...   \n",
       "\n",
       "                                        changes_made  \\\n",
       "0  The original story was already quite good, but...   \n",
       "1  The following changes were made to improve the...   \n",
       "2  The following changes were made to improve the...   \n",
       "\n",
       "                                         translation  \n",
       "0  ## Little Karoo's Big Heart\\n\\nLittle Karoo wa...  \n",
       "1  ## Little Karoo's Big Berry Secret\\n\\nLittle K...  \n",
       "2  ## Leo's Great Courage\\n\\nLittle Leo, or Leon ...  "
      ]
     },
     "execution_count": 21,
     "metadata": {},
     "output_type": "execute_result"
    }
   ],
   "source": [
    "# Load the first csv file\n",
    "path = DATA_PATH_1\n",
    "df1 = pd.read_csv(path)\n",
    "\n",
    "# Load the second csv file\n",
    "path = DATA_PATH_2\n",
    "df2 = pd.read_csv(path)\n",
    "\n",
    "# Concat the two dataframes\n",
    "df_data = pd.concat([df1, df2], axis=0)\n",
    "\n",
    "# Reset the index\n",
    "df_data = df_data.reset_index(drop=True)\n",
    "\n",
    "print(df_data.shape)\n",
    "\n",
    "df_data.head(3)"
   ]
  },
  {
   "cell_type": "markdown",
   "metadata": {
    "id": "BCvtmwrGBwCQ"
   },
   "source": [
    "## Format the text input"
   ]
  },
  {
   "cell_type": "code",
   "execution_count": 22,
   "metadata": {
    "id": "ezTwG4bfBpGC",
    "outputId": "1a555016-f427-4ee2-9a19-f308f7ebbb00"
   },
   "outputs": [
    {
     "name": "stdout",
     "output_type": "stream",
     "text": [
      "(564, 9)\n"
     ]
    }
   ],
   "source": [
    "def create_text_col(row):\n",
    "\n",
    "    # Note: The tokenizer automatically adds a <bos> token so\n",
    "    # we don't need to add it here. We only add the <eos> token.\n",
    "\n",
    "    # Get the story and the moral value\n",
    "    response = row['final_draft'].rstrip()\n",
    "    moral_value = row['moral_value'].rstrip()\n",
    "\n",
    "    # Define the system message and the user input\n",
    "    system_message = \"You are an expert at writing South African children's stories that teach children moral values and life lessons. You will be given a moral value. Write a captivating children's story in South African Arikaans that includes the moral value.\"\n",
    "\n",
    "    text =  f\"Below is an instruction that describes a task, paired with an input that provides further context. Write a response that appropriately completes the request.\\n\\n### Instruction:\\n{system_message}\\n\\n### Input:\\n{moral_value}\\n\\n### Response:\\n{response}<eos>\"\n",
    "\n",
    "    return text\n",
    "\n",
    "df_data['text'] = df_data.apply(create_text_col, axis=1)\n",
    "\n",
    "print(df_data.shape)\n",
    "\n",
    "#df_data.head(3)"
   ]
  },
  {
   "cell_type": "code",
   "execution_count": 23,
   "metadata": {
    "id": "620WdRgLAzB1",
    "outputId": "06c6c9b8-15ac-4529-c1bc-d4a7cce03767"
   },
   "outputs": [
    {
     "name": "stdout",
     "output_type": "stream",
     "text": [
      "Below is an instruction that describes a task, paired with an input that provides further context. Write a response that appropriately completes the request.\n",
      "\n",
      "### Instruction:\n",
      "You are an expert at writing South African children's stories that teach children moral values and life lessons. You will be given a moral value. Write a captivating children's story in South African Arikaans that includes the moral value.\n",
      "\n",
      "### Input:\n",
      "Honesty – Valuing truth and integrity in words and actions.\n",
      "\n",
      "### Response:\n",
      "Klein Karoo se Groot Bessie-Geheim\n",
      "\n",
      "Klein Karoo, 'n klein bobbejaan met 'n piepklein stertjie, het 'n blinkrooi bessie gevind. Die bessie was so groot soos sy duim en so blink soos 'n robbe se oog. Hy het dit agter 'n groot klip weggesteek, net vir homself.\n",
      "\n",
      "Sy ma, Ouma Karoo, het hom gevra: \"Karoo, my klein mannetjie, het jy dalk 'n lekker bessie gevind vandag?\"\n",
      "\n",
      "Karoo het sy lippe styfgebyt. Hy wou die bessie vir homself hou. \"Nee, Ouma,\" het hy gefluister, \"ek het niks gevind nie.\"\n",
      "\n",
      "Ouma Karoo het saggies geglimlag. Sy het geweet Karoo lieg. Sy het hom nie bestraf nie, maar eerder gesê: \"Kom, laat ons gaan kyk of ons ander bessies kan vind.\"\n",
      "\n",
      "Hulle het saam geloop, en Karoo het die hele tyd na sy geheime bessie gekyk.  'n Swaar gevoel het in sy hart gegroei. Die bessie, wat so lekker gelyk het, het nou bitter geproe. Hy wou so graag sy ma die waarheid vertel.\n",
      "\n",
      "Toe hulle by 'n groot boom aankom, het Ouma Karoo uitgeroep: \"Kyk, Karoo! 'n Hele klomp bessies!\" Daar was baie meer bessies as die een wat Karoo versteek het.\n",
      "\n",
      "Karoo het sy hart ingesluk. Hy het na sy ma gekyk en gesê: \"Ouma, ek het... ek het 'n bessie gevind. Ek het gelieg en gesê ek het niks gevind nie.\"\n",
      "\n",
      "Ouma Karoo het saggies Karoo se handjie gevat. \"Dit is okay, my kind,\" het sy gesê. \"Dit is belangrik om die waarheid te vertel, selfs al is dit moeilik.  Dit voel dalk sleg om te lieg, maar dit voel baie beter om die waarheid te sê.\"\n",
      "\n",
      "Saam het hulle die nuwe bessies geëet. Karoo het sy eie bessie ook aan sy ma gegee. Dit het nou baie lekker geproe. Hy het geleer dat eerlikheid, al is dit moeilik, baie beter voel as om 'n geheimpie te hê. En hy het die lekkerste bessie van almal geëet – die een wat gekom het nadat hy die waarheid vertel het.<eos>\n"
     ]
    }
   ],
   "source": [
    "# Print one formatted prompt\n",
    "\n",
    "print(df_data.loc[1, 'text'])"
   ]
  },
  {
   "cell_type": "markdown",
   "metadata": {
    "id": "vFuJAVCOSxsO"
   },
   "source": [
    "## Get the num tokens"
   ]
  },
  {
   "cell_type": "code",
   "execution_count": 24,
   "metadata": {
    "_kg_hide-output": true,
    "id": "kwPT7WBqSxsO"
   },
   "outputs": [],
   "source": [
    "from transformers import AutoTokenizer\n",
    "\n",
    "tokenizer = AutoTokenizer.from_pretrained(\"google/gemma-2-9b\",\n",
    "                                          trust_remote_code=True,\n",
    "                                          use_auth_token=HF_ACCESS_TOKEN)\n"
   ]
  },
  {
   "cell_type": "code",
   "execution_count": 25,
   "metadata": {
    "id": "tecS2JfYSxsO",
    "outputId": "8c55980d-bf7f-4efc-d0c3-47193aaa9d1e"
   },
   "outputs": [
    {
     "name": "stdout",
     "output_type": "stream",
     "text": [
      "Total: 412599\n",
      "Max: 936\n",
      "Min: 543\n"
     ]
    }
   ],
   "source": [
    "# Get the num tokens for each sample\n",
    "\n",
    "def get_num_tokens(x):\n",
    "\n",
    "    inputs = tokenizer(x, return_tensors=\"pt\",\n",
    "                       truncation=False).to('cpu')\n",
    "\n",
    "    token_list = inputs['input_ids'][0]\n",
    "\n",
    "    num_tokens = len(token_list)\n",
    "\n",
    "    return num_tokens\n",
    "\n",
    "# Get a count of input tokens\n",
    "df_data['num_tokens'] = df_data['text'].apply(get_num_tokens)\n",
    "\n",
    "print('Total:', df_data['num_tokens'].sum())\n",
    "print('Max:', df_data['num_tokens'].max())\n",
    "print('Min:', df_data['num_tokens'].min())"
   ]
  },
  {
   "cell_type": "markdown",
   "metadata": {
    "id": "VWD_S2xqSxsS",
    "papermill": {
     "duration": 0.040601,
     "end_time": "2024-08-31T10:09:38.017766",
     "exception": false,
     "start_time": "2024-08-31T10:09:37.977165",
     "status": "completed"
    },
    "tags": []
   },
   "source": [
    "## Convert to Huggingface dataset"
   ]
  },
  {
   "cell_type": "code",
   "execution_count": 26,
   "metadata": {
    "id": "MK-TgZVYSxsS",
    "papermill": {
     "duration": 0.067952,
     "end_time": "2024-08-31T10:09:38.133246",
     "exception": false,
     "start_time": "2024-08-31T10:09:38.065294",
     "status": "completed"
    },
    "tags": []
   },
   "outputs": [],
   "source": [
    "from datasets import Dataset\n",
    "\n",
    "# Select the columns we want to keep\n",
    "cols = ['text']\n",
    "\n",
    "# Convert the pandas DataFrame to a Hugging Face Dataset\n",
    "hf_dataset_train = Dataset.from_pandas(df_data[cols])\n"
   ]
  },
  {
   "cell_type": "code",
   "execution_count": null,
   "metadata": {
    "id": "PgWR1R670oB8"
   },
   "outputs": [],
   "source": []
  },
  {
   "cell_type": "markdown",
   "metadata": {
    "id": "7Biq0PTMAzB4"
   },
   "source": [
    "## Initialize the quantized model and tokenizer"
   ]
  },
  {
   "cell_type": "code",
   "execution_count": 27,
   "metadata": {
    "colab": {
     "referenced_widgets": [
      "514726d68f784a348adfd666814d347f",
      "902a864ba4eb46fd9ac0fd0197e54945"
     ]
    },
    "id": "kqKsECCoAzB4",
    "outputId": "7cc4c0bd-a099-4db4-a97a-d2b73b549ff1"
   },
   "outputs": [
    {
     "data": {
      "application/vnd.jupyter.widget-view+json": {
       "model_id": "3e4d147b7ded45b9b4cae5de1f51080e",
       "version_major": 2,
       "version_minor": 0
      },
      "text/plain": [
       "Downloading shards:   0%|          | 0/8 [00:00<?, ?it/s]"
      ]
     },
     "metadata": {},
     "output_type": "display_data"
    },
    {
     "data": {
      "application/vnd.jupyter.widget-view+json": {
       "model_id": "1acbed3d77e64d0db264e40c98e1455b",
       "version_major": 2,
       "version_minor": 0
      },
      "text/plain": [
       "model-00007-of-00008.safetensors:  20%|##        | 1.01G/4.96G [00:00<?, ?B/s]"
      ]
     },
     "metadata": {},
     "output_type": "display_data"
    },
    {
     "data": {
      "application/vnd.jupyter.widget-view+json": {
       "model_id": "22d1fef4179343acbfc681c36deac4bd",
       "version_major": 2,
       "version_minor": 0
      },
      "text/plain": [
       "model-00008-of-00008.safetensors:   0%|          | 0.00/2.38G [00:00<?, ?B/s]"
      ]
     },
     "metadata": {},
     "output_type": "display_data"
    },
    {
     "data": {
      "application/vnd.jupyter.widget-view+json": {
       "model_id": "d45247fbcc714cf59018ffd9604bb6b4",
       "version_major": 2,
       "version_minor": 0
      },
      "text/plain": [
       "Loading checkpoint shards:   0%|          | 0/8 [00:00<?, ?it/s]"
      ]
     },
     "metadata": {},
     "output_type": "display_data"
    },
    {
     "data": {
      "application/vnd.jupyter.widget-view+json": {
       "model_id": "d7327de5c9044e5a90ecac6c38f6a8b9",
       "version_major": 2,
       "version_minor": 0
      },
      "text/plain": [
       "generation_config.json:   0%|          | 0.00/173 [00:00<?, ?B/s]"
      ]
     },
     "metadata": {},
     "output_type": "display_data"
    }
   ],
   "source": [
    "from transformers import AutoTokenizer, AutoModelForCausalLM, TrainingArguments\n",
    "from trl import SFTTrainer\n",
    "\n",
    "\n",
    "MODEL_NAME = \"google/gemma-2-9b\"\n",
    "ADAPTER_SAVE_PATH = f\"gemma-2-9b-lora-adapter\"\n",
    "MERGED_MODEL_SAVE_PATH = f\"gemma-2-9b-4bit-afrik-stories\"\n",
    "MAX_LEN = 1024\n",
    "\n",
    "bnb_config = BitsAndBytesConfig(\n",
    "    load_in_4bit=True,\n",
    "    bnb_4bit_quant_type=\"nf4\",\n",
    "    bnb_4bit_compute_dtype=torch.bfloat16,\n",
    ")\n",
    "\n",
    "model = AutoModelForCausalLM.from_pretrained(\n",
    "    MODEL_NAME,\n",
    "    device_map=\"auto\",\n",
    "    torch_dtype=torch.bfloat16,\n",
    "    use_auth_token=HF_ACCESS_TOKEN,\n",
    "    use_cache=False,\n",
    "    trust_remote_code=True,\n",
    "    quantization_config=bnb_config,\n",
    ")\n",
    "\n",
    "\n",
    "tokenizer = AutoTokenizer.from_pretrained(MODEL_NAME,\n",
    "                                         use_auth_token=HF_ACCESS_TOKEN)\n"
   ]
  },
  {
   "cell_type": "markdown",
   "metadata": {
    "id": "y5GAwfRlAzB5"
   },
   "source": [
    "### Fine tune the 4-bit quantized model"
   ]
  },
  {
   "cell_type": "code",
   "execution_count": 28,
   "metadata": {
    "_kg_hide-output": true,
    "colab": {
     "referenced_widgets": [
      "c0bb41c9a2114927a1172ddf4d8d2839",
      "ba13ea6ee78f44ac8534667112e9dc1b",
      "fa188a6fcf0547cbad9e666be5f7a267"
     ]
    },
    "id": "9zW1u34rAzB5",
    "outputId": "4e77930e-a1d1-4b8d-fe8d-cf0bb82e3fde"
   },
   "outputs": [
    {
     "data": {
      "application/vnd.jupyter.widget-view+json": {
       "model_id": "ec5d61fdc10a401cac1c5cc9683476ab",
       "version_major": 2,
       "version_minor": 0
      },
      "text/plain": [
       "Map:   0%|          | 0/564 [00:00<?, ? examples/s]"
      ]
     },
     "metadata": {},
     "output_type": "display_data"
    },
    {
     "name": "stderr",
     "output_type": "stream",
     "text": [
      "Using auto half precision backend\n"
     ]
    }
   ],
   "source": [
    "\n",
    "peft_config = {\n",
    "    \"r\": 16,\n",
    "    \"lora_alpha\": 32,\n",
    "    \"lora_dropout\": 0.01,\n",
    "    \"bias\": \"none\",\n",
    "    \"task_type\": \"CAUSAL_LM\",\n",
    "    \"target_modules\":[\"q_proj\", \"o_proj\", \"k_proj\", \"v_proj\", \"gate_proj\", \"up_proj\", \"down_proj\"],\n",
    "}\n",
    "\n",
    "peft_conf = LoraConfig(**peft_config)\n",
    "\n",
    "\n",
    "training_config = {\n",
    "    \"num_train_epochs\": 2,\n",
    "    \"learning_rate\": 2e-4,\n",
    "    \"lr_scheduler_type\": \"cosine\",\n",
    "    \"warmup_ratio\": 0.2,\n",
    "    \"optim\": \"paged_adamw_8bit\",\n",
    "\n",
    "    #\"per_device_eval_batch_size\": 1, # Note: Evaluation is done using only one GPU\n",
    "    \"per_device_train_batch_size\": 2,\n",
    "    \"gradient_accumulation_steps\": 2,\n",
    "    \"max_steps\": -1,\n",
    "\n",
    "    \"do_eval\": False,\n",
    "    \"evaluation_strategy\": \"no\", #epoch #steps #no\n",
    "\n",
    "    \"logging_strategy\": \"steps\",\n",
    "    \"logging_steps\": 20,\n",
    "    \"log_level\": \"info\",\n",
    "\n",
    "    \"save_strategy\": \"steps\", #epoch #steps\n",
    "    \"save_steps\": 100,\n",
    "    \"save_total_limit\": 1,\n",
    "    \"overwrite_output_dir\": True,\n",
    "    \"output_dir\": \"./checkpoint_dir\",\n",
    "\n",
    "    \"gradient_checkpointing\": True,\n",
    "    \"bf16\": True,\n",
    "    \"seed\": 1024,\n",
    "    \"report_to\": \"none\",  # Disable logging to external systems like WandB\n",
    "    \"disable_tqdm\": False  # Enable the progress bar\n",
    "    }\n",
    "\n",
    "train_conf = TrainingArguments(**training_config)\n",
    "\n",
    "\n",
    "trainer = SFTTrainer(\n",
    "    model=model,\n",
    "    tokenizer=tokenizer,\n",
    "    args=train_conf,\n",
    "    peft_config=peft_conf,\n",
    "    train_dataset=hf_dataset_train,\n",
    "    #eval_dataset=hf_dataset_val,\n",
    "    max_seq_length=MAX_LEN,\n",
    "    dataset_text_field=\"text\",\n",
    "    packing=False,\n",
    ")\n"
   ]
  },
  {
   "cell_type": "code",
   "execution_count": 29,
   "metadata": {
    "id": "QOK6Xi_hAzB5",
    "outputId": "c9bea75d-ff76-4130-d7fa-3336a52364c5"
   },
   "outputs": [
    {
     "name": "stderr",
     "output_type": "stream",
     "text": [
      "***** Running training *****\n",
      "  Num examples = 564\n",
      "  Num Epochs = 2\n",
      "  Instantaneous batch size per device = 2\n",
      "  Total train batch size (w. parallel, distributed & accumulation) = 4\n",
      "  Gradient Accumulation steps = 2\n",
      "  Total optimization steps = 282\n",
      "  Number of trainable parameters = 54,018,048\n"
     ]
    },
    {
     "data": {
      "text/html": [
       "\n",
       "    <div>\n",
       "      \n",
       "      <progress value='282' max='282' style='width:300px; height:20px; vertical-align: middle;'></progress>\n",
       "      [282/282 19:19, Epoch 2/2]\n",
       "    </div>\n",
       "    <table border=\"1\" class=\"dataframe\">\n",
       "  <thead>\n",
       " <tr style=\"text-align: left;\">\n",
       "      <th>Step</th>\n",
       "      <th>Training Loss</th>\n",
       "    </tr>\n",
       "  </thead>\n",
       "  <tbody>\n",
       "    <tr>\n",
       "      <td>20</td>\n",
       "      <td>1.465200</td>\n",
       "    </tr>\n",
       "    <tr>\n",
       "      <td>40</td>\n",
       "      <td>1.067600</td>\n",
       "    </tr>\n",
       "    <tr>\n",
       "      <td>60</td>\n",
       "      <td>1.006800</td>\n",
       "    </tr>\n",
       "    <tr>\n",
       "      <td>80</td>\n",
       "      <td>0.949200</td>\n",
       "    </tr>\n",
       "    <tr>\n",
       "      <td>100</td>\n",
       "      <td>0.928800</td>\n",
       "    </tr>\n",
       "    <tr>\n",
       "      <td>120</td>\n",
       "      <td>0.901000</td>\n",
       "    </tr>\n",
       "    <tr>\n",
       "      <td>140</td>\n",
       "      <td>0.893000</td>\n",
       "    </tr>\n",
       "    <tr>\n",
       "      <td>160</td>\n",
       "      <td>0.668500</td>\n",
       "    </tr>\n",
       "    <tr>\n",
       "      <td>180</td>\n",
       "      <td>0.642000</td>\n",
       "    </tr>\n",
       "    <tr>\n",
       "      <td>200</td>\n",
       "      <td>0.620700</td>\n",
       "    </tr>\n",
       "    <tr>\n",
       "      <td>220</td>\n",
       "      <td>0.592700</td>\n",
       "    </tr>\n",
       "    <tr>\n",
       "      <td>240</td>\n",
       "      <td>0.595600</td>\n",
       "    </tr>\n",
       "    <tr>\n",
       "      <td>260</td>\n",
       "      <td>0.601300</td>\n",
       "    </tr>\n",
       "    <tr>\n",
       "      <td>280</td>\n",
       "      <td>0.588500</td>\n",
       "    </tr>\n",
       "  </tbody>\n",
       "</table><p>"
      ],
      "text/plain": [
       "<IPython.core.display.HTML object>"
      ]
     },
     "metadata": {},
     "output_type": "display_data"
    },
    {
     "name": "stderr",
     "output_type": "stream",
     "text": [
      "Saving model checkpoint to ./checkpoint_dir/checkpoint-100\n",
      "tokenizer config file saved in ./checkpoint_dir/checkpoint-100/tokenizer_config.json\n",
      "Special tokens file saved in ./checkpoint_dir/checkpoint-100/special_tokens_map.json\n",
      "Saving model checkpoint to ./checkpoint_dir/checkpoint-200\n",
      "tokenizer config file saved in ./checkpoint_dir/checkpoint-200/tokenizer_config.json\n",
      "Special tokens file saved in ./checkpoint_dir/checkpoint-200/special_tokens_map.json\n",
      "Deleting older checkpoint [checkpoint_dir/checkpoint-100] due to args.save_total_limit\n",
      "Saving model checkpoint to ./checkpoint_dir/checkpoint-282\n",
      "tokenizer config file saved in ./checkpoint_dir/checkpoint-282/tokenizer_config.json\n",
      "Special tokens file saved in ./checkpoint_dir/checkpoint-282/special_tokens_map.json\n",
      "Deleting older checkpoint [checkpoint_dir/checkpoint-200] due to args.save_total_limit\n",
      "\n",
      "\n",
      "Training completed. Do not forget to share your model on huggingface.co/models =)\n",
      "\n",
      "\n",
      "Saving model checkpoint to gemma-2-9b-lora-adapter\n",
      "tokenizer config file saved in gemma-2-9b-lora-adapter/tokenizer_config.json\n",
      "Special tokens file saved in gemma-2-9b-lora-adapter/special_tokens_map.json\n"
     ]
    }
   ],
   "source": [
    "# Run training\n",
    "trainer.train()\n",
    "\n",
    "# Save the adapter\n",
    "trainer.save_model(ADAPTER_SAVE_PATH)"
   ]
  },
  {
   "cell_type": "code",
   "execution_count": 30,
   "metadata": {
    "id": "9d2kdQaE-HgC",
    "outputId": "18953c80-7da4-40c6-91dc-86b1f8782aac"
   },
   "outputs": [
    {
     "data": {
      "text/plain": [
       "0"
      ]
     },
     "execution_count": 30,
     "metadata": {},
     "output_type": "execute_result"
    }
   ],
   "source": [
    "import gc\n",
    "\n",
    "del model\n",
    "del tokenizer\n",
    "\n",
    "torch.cuda.empty_cache()\n",
    "gc.collect()\n",
    "gc.collect()"
   ]
  },
  {
   "cell_type": "markdown",
   "metadata": {
    "id": "1Iay7gAQAzB6"
   },
   "source": [
    "## Merge the full precision model and the fine tuned adapter"
   ]
  },
  {
   "cell_type": "code",
   "execution_count": 31,
   "metadata": {
    "id": "XrY2xveGikus"
   },
   "outputs": [],
   "source": [
    "# Set logging level to suppress unnecessary Huggingface output\n",
    "\n",
    "from transformers import logging\n",
    "\n",
    "# This gets changed during fine tuning so\n",
    "# we need to set it again.\n",
    "logging.set_verbosity_error()"
   ]
  },
  {
   "cell_type": "code",
   "execution_count": 32,
   "metadata": {
    "colab": {
     "referenced_widgets": [
      "514ea8525791416b88ab4d66f9d800bd"
     ]
    },
    "id": "Bg89TXQU__tz",
    "outputId": "71d1e58b-14e5-4002-b4ba-d618f26515d7"
   },
   "outputs": [
    {
     "data": {
      "application/vnd.jupyter.widget-view+json": {
       "model_id": "2881ea682e5b4a4d811afe17fa753c54",
       "version_major": 2,
       "version_minor": 0
      },
      "text/plain": [
       "Loading checkpoint shards:   0%|          | 0/8 [00:00<?, ?it/s]"
      ]
     },
     "metadata": {},
     "output_type": "display_data"
    },
    {
     "data": {
      "text/plain": [
       "('gemma-2-9b-4bit-afrik-stories/tokenizer_config.json',\n",
       " 'gemma-2-9b-4bit-afrik-stories/special_tokens_map.json',\n",
       " 'gemma-2-9b-4bit-afrik-stories/tokenizer.json')"
      ]
     },
     "execution_count": 32,
     "metadata": {},
     "output_type": "execute_result"
    }
   ],
   "source": [
    "base_model = AutoModelForCausalLM.from_pretrained(\n",
    "    MODEL_NAME,\n",
    "    device_map=\"auto\",\n",
    "    torch_dtype=torch.bfloat16,\n",
    "    use_auth_token=HF_ACCESS_TOKEN,\n",
    "    use_cache=False,\n",
    "    trust_remote_code=True,\n",
    ")\n",
    "\n",
    "\n",
    "tokenizer = AutoTokenizer.from_pretrained(MODEL_NAME,\n",
    "                                         use_auth_token=HF_ACCESS_TOKEN)\n",
    "\n",
    "# Merge the model and adapter\n",
    "model = PeftModel.from_pretrained(base_model, ADAPTER_SAVE_PATH)\n",
    "model = model.merge_and_unload()\n",
    "\n",
    "# Load the tokenizer so it can be saved\n",
    "tokenizer = AutoTokenizer.from_pretrained(MODEL_NAME,\n",
    "                                         use_auth_token=HF_ACCESS_TOKEN\n",
    "                                         )\n",
    "\n",
    "# Save the model\n",
    "model.save_pretrained(MERGED_MODEL_SAVE_PATH)\n",
    "\n",
    "# Save the tokenizer\n",
    "tokenizer.save_pretrained(MERGED_MODEL_SAVE_PATH)\n"
   ]
  },
  {
   "cell_type": "code",
   "execution_count": 33,
   "metadata": {
    "id": "gMbDYvlaAzB7",
    "outputId": "fbf0158c-1faf-45df-a374-fe6b514eb462"
   },
   "outputs": [
    {
     "data": {
      "text/plain": [
       "0"
      ]
     },
     "execution_count": 33,
     "metadata": {},
     "output_type": "execute_result"
    }
   ],
   "source": [
    "import gc\n",
    "\n",
    "del model\n",
    "del tokenizer\n",
    "\n",
    "torch.cuda.empty_cache()\n",
    "gc.collect()\n",
    "gc.collect()"
   ]
  },
  {
   "cell_type": "markdown",
   "metadata": {
    "id": "WyhUcVQRA3vm"
   },
   "source": [
    "## Run evaluation"
   ]
  },
  {
   "cell_type": "code",
   "execution_count": 34,
   "metadata": {
    "colab": {
     "referenced_widgets": [
      "e840615a86ff40c1bb7fb20420cb3525",
      "df9d4a378b034ec7ae663d940fe3cb5f"
     ]
    },
    "id": "ZHje2cTSSxsZ",
    "outputId": "ea3eb30b-2c31-46a5-f46a-54d72d81006c",
    "papermill": {
     "duration": 0.039464,
     "end_time": "2024-08-31T10:09:45.532637",
     "exception": false,
     "start_time": "2024-08-31T10:09:45.493173",
     "status": "completed"
    },
    "tags": []
   },
   "outputs": [
    {
     "data": {
      "application/vnd.jupyter.widget-view+json": {
       "model_id": "009c589c5c174069b0dfc283273f97c4",
       "version_major": 2,
       "version_minor": 0
      },
      "text/plain": [
       "Loading checkpoint shards:   0%|          | 0/4 [00:00<?, ?it/s]"
      ]
     },
     "metadata": {},
     "output_type": "display_data"
    }
   ],
   "source": [
    "# Load the fine tuned model\n",
    "model = AutoModelForCausalLM.from_pretrained(\n",
    "    MERGED_MODEL_SAVE_PATH,\n",
    "    device_map='auto',\n",
    "    torch_dtype=torch.bfloat16,\n",
    "    local_files_only=True,\n",
    ")\n",
    "\n",
    "\n",
    "# Load the tokenizer\n",
    "tokenizer = AutoTokenizer.from_pretrained(MERGED_MODEL_SAVE_PATH)\n"
   ]
  },
  {
   "cell_type": "markdown",
   "metadata": {
    "id": "j6XgirTK5mRT"
   },
   "source": [
    "## Generate on story for each moral value\n",
    "\n",
    "Generate 28 stories that we can manually review."
   ]
  },
  {
   "cell_type": "code",
   "execution_count": 35,
   "metadata": {
    "id": "hnrzirwMAzCB",
    "outputId": "cccdaa18-698b-48bb-b764-a6eba4ba360c"
   },
   "outputs": [
    {
     "data": {
      "text/plain": [
       "28"
      ]
     },
     "execution_count": 35,
     "metadata": {},
     "output_type": "execute_result"
    }
   ],
   "source": [
    "moral_value_list = [\n",
    "\"Kindness – Showing care and consideration for others, especially those in need.\",\n",
    "\"Honesty – Valuing truth and integrity in words and actions.\",\n",
    "\"Courage – Encouraging bravery to face fears and challenges.\",\n",
    "\n",
    "\"Responsibility – Teaching accountability and the importance of fulfilling commitments.\",\n",
    "\"Respect – Valuing other people’s rights, opinions, and differences.\",\n",
    "\"Perseverance – Promoting resilience and the determination to keep going despite challenges.\",\n",
    "\n",
    "\"Forgiveness – Encouraging letting go of grudges and offering second chances.\",\n",
    "\"Gratitude – Emphasizing thankfulness for what one has and the kindness of others.\",\n",
    "\"Teamwork – Highlighting the importance of working together and supporting one another.\",\n",
    "\n",
    "\"Fairness – Teaching equity and justice, where everyone is treated equally.\",\n",
    "\"Generosity – Encouraging giving to others, particularly those less fortunate.\",\n",
    "\"Patience – Fostering calmness and the ability to wait without frustration.\",\n",
    "\n",
    "\"Empathy – Helping children understand and care about the feelings of others.\",\n",
    "\"Humility – Promoting modesty and recognizing the strengths and contributions of others.\",\n",
    "\"Self-discipline – Teaching control over impulses and making responsible choices.\",\n",
    "\n",
    "\"Gender Equality – Promoting equal rights and opportunities for all genders.\",\n",
    "\"Religious Tolerance – Encouraging understanding and acceptance of different faiths and beliefs.\",\n",
    "\"Strength in Diversity – Celebrating the value of different cultures, backgrounds, and perspectives.\",\n",
    "\n",
    "\"Racial Equality – Fostering respect and equality among all races, promoting fairness and inclusion.\",\n",
    "\"Environmental Stewardship – Encouraging responsibility for protecting the planet and its resources.\",\n",
    "\"Compassion for Animals – Promoting kindness and care for all living creatures.\",\n",
    "\n",
    "\"Peacefulness – Teaching peaceful conflict resolution and the importance of non-violence.\",\n",
    "\"Gratitude for Simple Things – Encouraging appreciation of everyday moments and small acts of kindness.\",\n",
    "\"Sharing – Teaching the value of sharing what we have with others.\",\n",
    "\n",
    "\"Independence and Self-reliance – Encouraging confidence in one’s abilities and the importance of taking initiative.\",\n",
    "\"Speaking Out Against Injustice – Instilling the courage to stand up against unfairness, discrimination, or wrongdoing. This value teaches children that they have the power and responsibility to challenge injustice, whether it is directed at them or others, and to advocate for fairness and equality in their communities.\",\n",
    "\"Being On Time – Teaching the value of punctuality and respect for others’ time, reinforcing discipline and reliability.\",\n",
    "\"Striving for Excellence – Instilling a mindset of doing one’s best and aiming for high standards in all pursuits, whether in school, hobbies, or personal goals.\",\n",
    "]\n",
    "\n",
    "len(moral_value_list)"
   ]
  },
  {
   "cell_type": "code",
   "execution_count": 36,
   "metadata": {
    "id": "2iG8EzbdAzCC",
    "outputId": "aaae4da3-934e-4f61-b2e3-a25ccb3e7cbb"
   },
   "outputs": [
    {
     "name": "stderr",
     "output_type": "stream",
     "text": [
      "100%|██████████| 28/28 [17:06<00:00, 36.65s/it]\n"
     ]
    }
   ],
   "source": [
    "# Generate a story for each moral value\n",
    "\n",
    "response_list = []\n",
    "\n",
    "print_output = False\n",
    "\n",
    "for i in tqdm(range(0, len(moral_value_list))):\n",
    "\n",
    "    # Get the moral value\n",
    "    moral_value = moral_value_list[i]\n",
    "\n",
    "    # Run inference\n",
    "    response, _ = run_inference(moral_value)\n",
    "\n",
    "    response_list.append(response)\n",
    "\n",
    "    if print_output == True:\n",
    "\n",
    "        print(f\"--{i}--\")\n",
    "        print(f\"Moral_value: {moral_value}\")\n",
    "        print(f\"Generated story: {response}\")\n",
    "        print()\n"
   ]
  },
  {
   "cell_type": "code",
   "execution_count": 37,
   "metadata": {
    "id": "VtUbUwIuAzCC",
    "outputId": "36799197-1d40-42d6-bbe9-d5f44cc8f33e"
   },
   "outputs": [
    {
     "name": "stdout",
     "output_type": "stream",
     "text": [
      "(28, 3)\n"
     ]
    },
    {
     "data": {
      "text/html": [
       "<div>\n",
       "<style scoped>\n",
       "    .dataframe tbody tr th:only-of-type {\n",
       "        vertical-align: middle;\n",
       "    }\n",
       "\n",
       "    .dataframe tbody tr th {\n",
       "        vertical-align: top;\n",
       "    }\n",
       "\n",
       "    .dataframe thead th {\n",
       "        text-align: right;\n",
       "    }\n",
       "</style>\n",
       "<table border=\"1\" class=\"dataframe\">\n",
       "  <thead>\n",
       "    <tr style=\"text-align: right;\">\n",
       "      <th></th>\n",
       "      <th>moral_value</th>\n",
       "      <th>generated_story</th>\n",
       "      <th>id</th>\n",
       "    </tr>\n",
       "  </thead>\n",
       "  <tbody>\n",
       "    <tr>\n",
       "      <th>0</th>\n",
       "      <td>Kindness – Showing care and consideration for ...</td>\n",
       "      <td>Klein Karoo se Groot Hart\\n\\nKlein Karoo, 'n k...</td>\n",
       "      <td>0</td>\n",
       "    </tr>\n",
       "    <tr>\n",
       "      <th>1</th>\n",
       "      <td>Honesty – Valuing truth and integrity in words...</td>\n",
       "      <td>Klein Kotie en die Rooi Appel\\n\\nKlein Kotie, ...</td>\n",
       "      <td>1</td>\n",
       "    </tr>\n",
       "    <tr>\n",
       "      <th>2</th>\n",
       "      <td>Courage – Encouraging bravery to face fears an...</td>\n",
       "      <td>Klein Leeutjie se Groot Moed\\n\\nKlein Leeutjie...</td>\n",
       "      <td>2</td>\n",
       "    </tr>\n",
       "  </tbody>\n",
       "</table>\n",
       "</div>"
      ],
      "text/plain": [
       "                                         moral_value  \\\n",
       "0  Kindness – Showing care and consideration for ...   \n",
       "1  Honesty – Valuing truth and integrity in words...   \n",
       "2  Courage – Encouraging bravery to face fears an...   \n",
       "\n",
       "                                     generated_story  id  \n",
       "0  Klein Karoo se Groot Hart\\n\\nKlein Karoo, 'n k...   0  \n",
       "1  Klein Kotie en die Rooi Appel\\n\\nKlein Kotie, ...   1  \n",
       "2  Klein Leeutjie se Groot Moed\\n\\nKlein Leeutjie...   2  "
      ]
     },
     "execution_count": 37,
     "metadata": {},
     "output_type": "execute_result"
    }
   ],
   "source": [
    "# Put the elvaluation output into a dataframe\n",
    "\n",
    "data = {\n",
    "    'moral_value': moral_value_list,\n",
    "    'generated_story': response_list,\n",
    "}\n",
    "\n",
    "# Create the dataframe\n",
    "df_eval = pd.DataFrame(data)\n",
    "\n",
    "# Add an id column\n",
    "df_eval['id'] = df_eval.index\n",
    "\n",
    "# Save the dataframe\n",
    "path = \"eval_results.csv\"\n",
    "df_eval.to_csv(path, index=False)\n",
    "\n",
    "print(df_eval.shape)\n",
    "\n",
    "df_eval.head(3)"
   ]
  },
  {
   "cell_type": "markdown",
   "metadata": {
    "id": "_ieJDEZ_C3Sd"
   },
   "source": [
    "## Check spelling, grammar and fluency\n",
    "\n",
    "Manually review each generated story to ensure that the Afrikaans spelling and grammar are correct.\n",
    "Also check that the output is fluent."
   ]
  },
  {
   "cell_type": "code",
   "execution_count": 38,
   "metadata": {
    "id": "_SjVs_RJAzCC",
    "outputId": "4fd623cd-fd6e-4e0c-99dc-2bdae8306863"
   },
   "outputs": [
    {
     "name": "stdout",
     "output_type": "stream",
     "text": [
      "--0--\n",
      "Moral_value: Kindness – Showing care and consideration for others, especially those in need.\n",
      "Generated story: Klein Karoo se Groot Hart\n",
      "\n",
      "Klein Karoo, 'n klein bobbejaan met 'n stert so lank soos 'n reënboog, was 'n bietjie van 'n slegte seuntjie. Hy het graag gespot en gejaag, en ander bobbejane se kos gevat. Hy het glad nie gedink aan ander se gevoelens nie. Sy ma, 'n wyse ou bobbejaan met sagte oë, het hom al baie keer vermaan: \"Karoo, my seun, 'n goeie hart is belangriker as 'n sterk arm.\" Maar Karoo het net sy skouertjies opgetrek en verder met sy speletjies voortgegaan.\n",
      "\n",
      "Een warm middag, terwyl Karoo besig was om 'n ander bobbejaan se lekkerste mango te steel, het hy 'n ou, siek bobbejaantjie onder 'n doringboom gesien. Die bobbejaantjie was dun en swak, en sy oë was vol trane. Hy het na 'n stukkie broodjie gewag, maar sy klouetjies was te swak om dit op te tel.\n",
      "\n",
      "Karoo het vir 'n oomblik stilgestaan. Hy het geweet hy moes die broodjie steel om dit vir homself te eet. Maar toe het hy aan sy ma se woorde gedink. 'n Goeie hart...\n",
      "\n",
      "Hy het stadig na die siek bobbejaantjie toe gegaan. Hy het die stukkie broodjie saggies in die bobbejaantjie se handjie geplaas. Toe het hy 'n bietjie water uit 'n nabygeleë poel gehaal en dit met sy vingers in die bobbejaantjie se bek gegooi.\n",
      "\n",
      "Die siek bobbejaantjie het sy oë vernou en 'n klein glimlag gegee. Hy het 'n bietjie van die broodjie geëet en 'n druppeltjie water gedrink. Hy het na Karoo se handjie gekyk, sy oë vol dankbaarheid.\n",
      "\n",
      "Karoo het gevoel hoe 'n warm gevoel sy hart vul. Dit was 'n baie beter gevoel as om die broodjie alleen te eet! Hy het elke dag daarna die siek bobbejaantjie gaan besoek, hom kos en water gegee, en selfs 'n sagte kombers gemaak van sagte gras.\n",
      "\n",
      "Mettertyd het die bobbejaantjie beter geword. Hy kon weer loop en speel, en hy het 'n nuwe vriend in Karoo gekry. Die ander bobbejane het gesien hoe goed Karoo vir die bobbejaantjie was, en hulle het begin om hom te bewonder. Hulle het gesien dat 'n goeie hart, 'n hart vol vriendelikheid en deernis, baie belangriker was as 'n sterk arm.\n",
      "\n",
      "Karoo het geleer dat die mooiste dinge in die lewe nie in die steel van kos of in die wen van speletjies lê nie, maar in die liefde en vriendelikheid wat jy vir ander deel. Sy hart was nie meer klein nie, maar groot en vol liefde, net soos die Groot Karoo self. En hy het altyd onthou: 'n Goeie hart is belangriker as 'n sterk arm.\n",
      "\n",
      "--1--\n",
      "Moral_value: Honesty – Valuing truth and integrity in words and actions.\n",
      "Generated story: Klein Kotie en die Rooi Appel\n",
      "\n",
      "Klein Kotie, ’n bobbejaantjie met oë soos sjokolade, het ’n groot probleem gehad. Ouma Jakkals het hom gevra om die appels in haar tuin na die huis te dra, maar Kotie se maag het ’n ander plan gehad.  Terwyl hy die appels in sy sterk klein hande gedra het, het sy oë op ’n groot, sappige rooibruin appel vasgevang.  ’n Heerlike idee het hom gevul – ’n bietjie hapkie vir die pad.\n",
      "\n",
      "Hy het stadig, stadig sy tande in die sappige vel geklem. ’n Klein stukkie, net ’n klein stukkie, het hy afgebyt.  Toe nog ’n stukkie.  Voor hy dit kon vermy, was die helfte van die appel weg!\n",
      "\n",
      "Ouma Jakkals se huis was naby, maar Kotie was bang.  Hy het geweet sy sou kwaad word as sy die ontbrekende appel ontdek.  ’n Slegte gevoel het in sy maag begin roer.  Hy het aan sy ma se woorde gedink:  \"’n Leuen is soos ’n klip in jou maag – die swaarder jy dit dra, die slegter voel jy.\"\n",
      "\n",
      "Toe hy by Ouma Jakkals aankom, het hy sy kop geskud en diep asem gehaal.  Hy het al die appels op die tafel neergesit, behalwe die klein stukkie wat oor was.  Ouma Jakkals het die appel bekyk en ’n frons op haar neus gekry.\n",
      "\n",
      "\"Kotie,\" het sy gesê, haar stem sag maar ernstig, \"wat is aan die res van die appel?\"\n",
      "\n",
      "Kotie het diep asem gehaal.  ’n Trantjie het oor sy wang geloop.  \"Ouma,\" het hy gefluister, \"ek... ek het ’n klein bietjie gebyt.\"\n",
      "\n",
      "Ouma Jakkals het saggies glimlag.  \"Dit is okay, Kotie,\" het sy gesê.  \"Dit is belangrik om die waarheid te vertel, selfs al is dit moeilik.  ’n Leuen laat jou swaar voel.  ’n Ware woord, selfs ’n klein een, laat jou hart lig.\"\n",
      "\n",
      "Sy het Kotie se kop saggies gekrap.  \"Kom, laat ons saam die res van die appels eet.  En ons sal môre saam ’n nuwe appelbokkie plant, net vir jou.\"\n",
      "\n",
      "Kotie het gevoel hoe die klip in sy maag begin verdwyn.  Die waarheid het hom vrygemaak.  Hy het die res van die appels met Ouma Jakkals geniet, en sy hart was vol blydskap. Hy het geleer dat die waarheid, al is dit moeilik, altyd die beste is.  En hy het die lekkerste appelkoek geëet wat hy nog ooit geproe het!\n",
      "\n",
      "--2--\n",
      "Moral_value: Courage – Encouraging bravery to face fears and challenges.\n",
      "Generated story: Klein Leeutjie se Groot Moed\n",
      "\n",
      "Klein Leeutjie, met sy sagte, goue mannetjie, was bang. Bang vir die donker, bang vir die wind wat deur die gras fluister, en bo alles, bang vir die water.  Hy het op sy ma se rug gebly en geskree:  \"Ma, ek wil nie in die water gaan nie! Dit is te diep, te donker, te gevaarlik!\"\n",
      "\n",
      "Sy ma, ‘n pragtige leeufyn met ‘n sagte brul, het saggies gesê: \"Klein Leeutjie, my liefling, water is nie gevaarlik nie. Dit is lewe. Alles in die wêreld is bang vir iets, selfs ek. Maar moed is sterker as enige vrees.\"\n",
      "\n",
      "Sy het hom verduidelik dat die water vol kos is: vissies, paddas, en selfs sappige waterplante. Sy het hom gehelp om sy pote in die koel, sagte water te sit. Eers was hy bang, maar toe het die vrees begin verdwyn. Die water was nie so donker nie. Dit was meer soos ‘n groot, blink oog wat hom uitgenooi het.\n",
      "\n",
      "‘n Klein fissie het hom met sy kolle begroet. ‘n Padda het ‘n vrolike \"kerrekkerrek\" gemaak. Klein Leeutjie het gelag. Hy het begin om in die water te speel, sy pote soos klein pootjies in die modder. Hy het selfs begin om klein vissies te vang – nie om te eet nie, maar net om te speel.\n",
      "\n",
      "Die wind het gefluister, en die bome het saggies gewapper, maar Klein Leeutjie was nie meer bang nie. Hy was trots. Hy was dapper. Hy het sy vrees oorkom. Hy het geleer dat moed nie die afwesigheid van vrees is nie, maar die oorwinning daaroor. Hy het geleer dat die wêreld vol wonders is, en dat hy hulle net kan ontdek as hy dapper is.\n",
      "\n",
      "Toe die son ondergegaan het, was Klein Leeutjie nie bang vir die donker nie. Hy het in die warm son ondergedaal, sy goue mannetjie blinkend soos die sterre. Hy het geweet hy kon enigiets doen, want hy was dapper. Hy was Klein Leeutjie, die dapper leeutjie.\n",
      "\n",
      "--3--\n",
      "Moral_value: Responsibility – Teaching accountability and the importance of fulfilling commitments.\n",
      "Generated story: Leo se Groot Belofte\n",
      "\n",
      "Klein Leeutjie Leo was bekend vir sy groot lippe en sy nog groter beloftes. Hy het die hele dag deur rondgespring, altyd met ’n nuwe, opwindende plan in sy kop. Van ’n reuse sandkasteel by die rivier tot ’n heuningkoppie-soetgoedverkoop – Leo het die mooiste drome gehad.  Maar hy was ook bekend vir sy gebrek aan verantwoordelikheid. Hy sou ’n belofte maak, maar toe die werk begin het, sou hy gou vergeet.\n",
      "\n",
      "Een warm middag het Ouma Jakkals, die wysheid van die savanne, hom geroep.  \"Leo, my seun,\" het sy gesê, haar stem so sag soos sagte gras, \"jy het ’n ongelooflike talent vir idees. Maar sonder verantwoordelikheid is dit soos ’n vliegtuig sonder vlerke – dit gaan nêrens nie.\"\n",
      "\n",
      "Leo het sy kop geskud, sy lang, goue mannetjie geskyn in die son. Hy het geweet Ouma Jakkals was reg. Hy wou regtig ’n goeie werk doen, maar hy was net so gewoond om sy beloftes te breek as om te slaap.\n",
      "\n",
      "Ouma Jakkals het ’n pragtige, rooi pompoen gepluk.  \"Kyk na hierdie pompoen, Leo,\" het sy gesê. \"Dit is vol lekker kos, maar om daardie kos te kry, moet jy die pompoen oopmaak. Dit is soos ’n belofte – om jou belofte na te kom, is soos om die pompoen oop te maak. Jy moet jou bes doen, selfs al is dit moeilik.\"\n",
      "\n",
      "Leo het die pompoen bekyk. Dit was ’n groot, ronde pompoen, vol potensiaal. Hy het diep asem gehaal. Hy sou dit doen. Hy sou verantwoordelikheid neem.\n",
      "\n",
      "Die volgende dag het Leo ’n pragtige sandkasteel by die rivier gebou. Hy het elke detail beplan, elke klip versigtig gekies. Hy was trots op sy werk. Hy het sy belofte gehou! Die ander diertjies het gekom kyk en was betower.\n",
      "\n",
      "Toe hy by Ouma Jakkals teruggekom het, het sy hom gelukgewens.  \"Leo,\" het sy gesê, \"jy het ’n wonderlike sandkasteel gebou, maar belangriker nog, jy het verantwoordelikheid getoon. Dit is ’n ware skat.\"\n",
      "\n",
      "Van toe af het Leo hard probeer om sy beloftes na te kom. Hy het geleer dat verantwoordelikheid nie net oor die werk self gaan nie, maar ook oor die voldoening wat jy kry wanneer jy jou beste gee. En hy het ontdek dat ’n goeie sandkasteel net so lekker is as ’n heuningkoppie – miskien selfs lekkerder, want hy het dit self gebou, met sy eie hande en sy eie verantwoordelikheid.\n",
      "\n",
      "--4--\n",
      "Moral_value: Respect – Valuing other people’s rights, opinions, and differences.\n",
      "Generated story: Klein Karoo se Groot Hart\n",
      "\n",
      "Klein Karoo was ‘n klein, bruin bobbejaan met ‘n baie groot hart. Hy was sterk en vinnig, en baie graag in die bome rondgeklim. Maar Karoo was ook baie stout. Hy het gedink hy’s die slimmer en sterker as almal in die bos. Hy het die ander diertjies altyd in die moeilikheid gesit.\n",
      "\n",
      "Een dag was daar ‘n groot storm. Die wind het gehuil soos ‘n leeu, en die reën het in strome geval. Klein Karoo was bang. Hy was alleen hoog in ‘n boom, en die takke het onder die storm se krag geskud. Hy wou so graag by die ander diertjies kom kuier, maar was te bang om af te klim.\n",
      "\n",
      "Toe sien hy Ouma Meerkat, haar klein oë vol kommer, langs die rivier aankom. Ouma Meerkat was klein, maar slim en sterk. Sy het ‘n stok in haar bek gegryp en begin bou.\n",
      "\n",
      "\"Ouma Meerkat!\" het Karoo geroep, sy stemmetjie amper verdwaal in die storm. \"Help my, asseblief! Ek is bang!\"\n",
      "\n",
      "Ouma Meerkat het haar kop opgelig en hom aangekyk. Sy het nie geantwoord nie. Sy het net aangehou bou.\n",
      "\n",
      "Karoo het gehuil en geskree. Hy het besef hy het Ouma Meerkat se harde werk geïgnoreer. Hy het nie na haar gedraai nie. Hy het net aan homself gedink.\n",
      "\n",
      "Toe Ouma Meerkat klaar was, het sy na Karoo toe gekom. Sy het ‘n sterk tou uit haar stok gemaak en dit aan ‘n stewige tak vasgemaak.\n",
      "\n",
      "\"Kom, klein Karoo,\" het sy saggies gesê. \"Greep die tou vas. Ek sal jou help af te klim.\"\n",
      "\n",
      "Karoo het gegryp. Ouma Meerkat het hom versigtig af gehelp. Hy het ‘n bietjie gestruikel, maar hy was veilig op die grond.\n",
      "\n",
      "Die ander diertjies het hom omhels. Hulle was bly om hom te sien. Karoo het besef hy was verkeerd. Hy het nie na die ander diertjies se hulp gevra nie, en hy het Ouma Meerkat se moeite geïgnoreer. Hy het sy trotsheid laat vaar.\n",
      "\n",
      "Van toe af het Klein Karoo ander diertjies met respek behandel. Hy het hulle gehelp waar hy kon, en hy het hulle altyd met vriendelikheid behandel. Hy het geleer dat respek vir ander mense se regte, menings en verskille belangriker is as om altyd reg te wees. En sy groot hart het nog groter geword.\n",
      "\n",
      "--5--\n",
      "Moral_value: Perseverance – Promoting resilience and the determination to keep going despite challenges.\n",
      "Generated story: Klein Kat se Groot Droogte\n",
      "\n",
      "Klein Kat was ‘n klein, maer katjie met oë soos swart krale. Sy het in ‘n klein, verlate huis in die Karoo gewoon, omring deur dor, bruin aarde en hoë, leë bome. Klein Kat se grootste droom was om ‘n regte jagter te word, soos haar ma, Mevrou Kat. Mevrou Kat was bekend vir haar slim vangst van muise en ratte.\n",
      "\n",
      "Maar Klein Kat was stadig. Baie stadig. Terwyl die ander katjies in die buurt vinnig soos blits oor die grond gevlieg het, het Klein Kat stadig-stadig haar pootjies gesit. Sy het altyd laaste gekom in die renwedlope en haar prooi het altyd weggehardloop voor sy kon dink.\n",
      "\n",
      "Sy was baie hartseer. Sy het gevoel sy sou nooit ‘n goeie jagter word nie. Sy het by die ou, verroeste wasbak gesit en trane gestof wat soos blink swart krale gelyk het.\n",
      "\n",
      "Een dag, toe die son ‘n brandende kol in die lug was, het ‘n groep muise langs die huis begin vreet. Klein Kat se hart het vinnig begin klop. Hier was haar kans!\n",
      "\n",
      "Sy het diep asem gehaal en haar klein lyfie saamgesnoer. Sy het haar oë toegemaak en gedink aan haar ma se woorde: “Geduld, Klein Kat. Stadig maar seker.” Sy het stadig, stadig na die muise toe gesluip, haar pootjies stil soos skaapstene.\n",
      "\n",
      "Die muise het haar amper gesien! Klein Kat se hart het in haar keel vasgeklou. Sy het haar asem ingehou, haar oë toe, en stadig, stadig voortgestap. Sy het gedink aan al die dae se oefening, al die keer wat sy geval het en weer opgestaan het.\n",
      "\n",
      "En toe, met ‘n vinnige sprong, het Klein Kat een muis gegryp! Sy was so bly dat sy hard gemiaau het. Die ander muise het geskrik en weggehardloop. Klein Kat het haar prooi met trots na haar hol gebring.\n",
      "\n",
      "Mevrou Kat was baie trots. “Jy het dit gedoen, Klein Kat!” het sy gesê. “Jy het jou doel bereik met volharding en geduld. Stadig maar seker, my kind, stadig maar seker.”\n",
      "\n",
      "Van daardie dag af het Klein Kat steeds stadig gewerk, maar sy het nooit opgegee nie. Sy het geweet dat met volharding en ‘n bietjie geduld, sy enigiets kon bereik. En sy het baie muise gevang.\n",
      "\n",
      "--6--\n",
      "Moral_value: Forgiveness – Encouraging letting go of grudges and offering second chances.\n",
      "Generated story: Liewe Leeutjie se Groot Hart\n",
      "\n",
      "Liewe Leeutjie, met sy goue mannetjie en sagte pootjies, was 'n bietjie van 'n suurpruim. Hy was altyd kwaad oor iets. Vandag was dit Ouma Bul se koekies; gister was dit Klein Jakkals se nuwe skoentjies.  Hy het altyd sy vingers styfgeklem en 'n frons op sy neus gehad.\n",
      "\n",
      "Een dag het Liewe Leeutjie se beste vriend, Klippies die skilpad, hom raakgesien. Klippies, stadig soos hy was, het 'n sagte hart gehad.  \"Liewe Leeutjie,\" het hy saggies gesê, \"jy lyk seer. Wat maak jou so kwaad?\"\n",
      "\n",
      "Liewe Leeutjie het sy kop geskud en sy stert gestamp.  \"Ouma Bul het my koekies gevat!\" het hy gehuil. \"En Klein Jakkals het my nuwe speelding gesteel!\"\n",
      "\n",
      "Klippies het gelag, 'n klein, sagte glimlag.  \"My Liewe Leeutjie,\" het hy gesê, \"ek dink jy dra 'n baie swaar hart. Kwaad bly hou is soos 'n swaar klip in jou sak dra. Dit maak jou siek, nie die ander nie.\"\n",
      "\n",
      "Liewe Leeutjie het sy oë wyd oopgemaak. Hy het nog nooit daaroor nagedink nie.\n",
      "\n",
      "Klippies het verder gesê: \"Kyk, ek weet dis moeilik, maar probeer om te vergewe.  Ouma Bul het dalk net 'n bietjie te veel van die koekies geëet. En Klein Jakkals... wel, hy is dalk 'n bietjie stout, maar hy het dalk net gedink dit was 'n lekker speelding.\"\n",
      "\n",
      "Liewe Leeutjie het stil geword. Hy het aan Klippies se woorde gedink. Dit het 'n bietjie makliker gevoel om te vergewe.\n",
      "\n",
      "Hy het stadig na Ouma Bul se huis geloop. Hy het diep asem gehaal en saggies op die deur geklop. Ouma Bul het met 'n glimlag oopgemaak.\n",
      "\n",
      "\"Ouma Bul,\" het Liewe Leeutjie gesê, sy stem sagter as gewoonlik, \"ek vergewe jou vir die koekies. Ek is jammer ek so kwaad was.\"\n",
      "\n",
      "Ouma Bul het 'n warm drukkie gegee.  \"Ek is so bly, Liewe Leeutjie,\" het sy gesê. \"Kom, ek bak 'n nuwe koekie net vir jou!\"\n",
      "\n",
      "Hy het ook na Klein Jakkals se huis toe gegaan. Hy het 'n nuwe speelding gekry en dit vir Klein Jakkals gegee.\n",
      "\n",
      "\"Hierdie is vir jou,\" het Liewe Leeutjie gesê. \"Ek vergewe jou vir my speelding.\"\n",
      "\n",
      "Klein Jakkals se oë het groot geword. Hy het die speelding geneem en Liewe Leeutjie 'n sagte drukkie gegee.\n",
      "\n",
      "Daarna het Liewe Leeutjie se hart baie lichter gevoel. Hy het besef dat vergewe baie makliker is as om kwaad te bly. Hy het geleer dat 'n groot hart nie net groot is nie, maar ook sag en goedhartig is. En van toe af het Liewe Leeutjie baie minder suurpruim geword.\n",
      "\n",
      "--7--\n",
      "Moral_value: Gratitude – Emphasizing thankfulness for what one has and the kindness of others.\n",
      "Generated story: Klein Kotie se Groot Dankie\n",
      "\n",
      "Klein Kotie, 'n klein bobbejaan met oë soos swart krale, het altyd gekla.  \"Ek het geen speelgoed nie!\" sou hy huil.  \"Ek is honger!\"  \"Ek is dors!\"  \"Ek wil hê jy gee my...\"  Sy ouma, 'n wyse ou bobbejaan met grys hare, het geduldig geluister, maar het geweet Kotie moet leer om dankbaar te wees.\n",
      "\n",
      "Een dag het Ouma vir Kotie 'n mandjie vol vrugte gegee.  \"Kyk, my liefling,\" het sy gesê, \"hierdie is vir jou.  Dankie aan die boom wat die vrugte gegee het, en dankie aan my vir die plukkie.\"  Kotie het die mandjie gegryp, maar hy het net 'n paar sappige wilde pere geëet en die res in die bos agtergelaat.\n",
      "\n",
      "Toe kom oom Jan, 'n vriendelike ou man, verby.  Hy het Kotie gesien en 'n stukkie brood uit sy sak gehaal.  \"Hier, klein vriend,\" het hy gesê, \"ek hoop jy is honger.\"  Kotie het die brood gegryp en dit gou-gou opgevreet, sonder om 'n woord te sê.\n",
      "\n",
      "Later het Kotie onder 'n groot kameeldoringboom gaan slaap.  Hy het alleen geslaap, met 'n koue wind wat deur die blare gefluister het.  Hy het begin dink aan sy lewe.  Hy het 'n dak oor sy kop, hy het klere aan, en hy het kos gehad. Hy het aan sy ouma en oom Jan gedink, aan hulle goedheid.  Hy het besef hy het baie meer as wat hy gedink het.\n",
      "\n",
      "Die volgende oggend het Kotie opgestaan en die son se warm strale op sy vel gevoel.  Hy het na die boom gekyk, na die vrugte wat nog hang, en aan Ouma se woorde gedink.  Hy het al die vrugte in die mandjie gepluk en dit vir Ouma geneem.  Hy het selfs 'n paar vir oom Jan gekry.\n",
      "\n",
      "Toe hy by Ouma aankom, het hy vir haar gesê: \"Ouma, ek is jammer ek het gekla. Ek het 'n dak oor my kop, klere aan, kos, en jy is my ouma. Ek is so dankbaar vir alles.\"  Hy het selfs vir oom Jan 'n dankie gesê toe hy hom weer gesien het.\n",
      "\n",
      "Van daardie dag af het Kotie 'n ander hart gehad. Hy het geleer om dankbaar te wees vir alles wat hy gehad het, en vir die vriendelikheid van ander.  Hy het 'n nuwe lewe begin, vol dankbaarheid en geluk.  En hy het altyd onthou dat 'n klein \"dankie\" 'n groot verskil kan maak.\n",
      "\n",
      "--8--\n",
      "Moral_value: Teamwork – Highlighting the importance of working together and supporting one another.\n",
      "Generated story: Die Muishondjies en die Groot Boom\n",
      "\n",
      "’n Storie vir kleuters\n",
      "\n",
      "Daar was eendag ’n groot boom in die veld, so hoog soos ’n berg, met takke so lank soos die arme Jakkals se stert. Die boom was siek. Sy blare was bruin en afgeval, en sy stam was vol gaatjies. Al die diertjies was bekommerd. Die olifant, met sy lang slurf, het probeer om die boom te besproei, maar die water het net in die gaatjies weggerol. Die krokodil, met sy sterk tande, het probeer om die gaatjies toe te maak, maar sy tande was te groot en skerp. Die jakkals, met sy slim kop, het probeer om ’n plan te dink, maar hy was te bang vir die boom se skaduwee.\n",
      "\n",
      "Toe kom die muishondjies. Hulle was klein, maar baie slim en sterk.  \"Ons kan hom help!\" het Klein Muishondjie, met sy piepklein stemmetjie, gesê.\n",
      "\n",
      "\"Maar hoe, Klein Muishondjie?\" het Groot Muishondjie gevra. Hy was groter as Klein Muishondjie, maar net so slim.\n",
      "\n",
      "Klein Muishondjie het ’n bietjie gedink. \"Ons kan die gaatjies vol klei maak!\" het hy voorgestel. \"En ons kan die blare met sagte hande afvee.\"\n",
      "\n",
      "Groot Muishondjie het gekyk. \"Maar daar is so baie gaatjies!\"\n",
      "\n",
      "Klein Muishondjie het geglimlag. \"Ons moet net saamwerk. Jy kan die klei kry, ek sal die gaatjies volmaak, en al die ander muishondjies kan help om die blare skoon te maak.\"\n",
      "\n",
      "En so het hulle gedoen. Die groot muishondjies het die klei gekry, die klein muishondjies het die gaatjies volgemaak, en al die muishondjies het die blare saggies afgevee. Hulle het mekaar gehelp en aangemoedig, almal werk saam.\n",
      "\n",
      "Ná ’n paar dae was die boom baie beter. Sy blare het weer groen geword, en hy het sterk begin groei. Die diertjies was baie bly.\n",
      "\n",
      "Die olifant het gesê: \"Dankie, muishondjies! Julle het ons almal gered!\"\n",
      "\n",
      "Die krokodil het gesê: \"Julle is regtig slim en sterk!\"\n",
      "\n",
      "Selfs die jakkals het gesê: \"Goed gedaan, muishondjies! Ek is julle skuldig!\"\n",
      "\n",
      "Die muishondjies het geglimlag. Hulle het geweet dat hulle net soveel kon doen omdat hulle saamgewerk het. Hulle het almal geweet dat as hulle mekaar help, hulle enigiets kan doen! En so het die muishondjies altyd saamgewerk, en altyd goed gedoen.\n",
      "\n",
      "--9--\n",
      "Moral_value: Fairness – Teaching equity and justice, where everyone is treated equally.\n",
      "Generated story: Die Reënboërugbyspan\n",
      "\n",
      "Klein Karabo het hartseer oë gehad. Sy was die enigste meisie in die hele rugby-span. Die ander kinders, Pieter, Sipho, en Thandi, het net saam met die seuns gespeel, en Karabo het elke dag alleen op die bank gesit en na hulle gespeel het.\n",
      "\n",
      "\"Ek wil ook rugby speel!\" het sy gesê, haar stemmetjie amper fluisterend.\n",
      "\n",
      "Pieter het sy skouers opgetrek. \"Meisies speel nie rugby nie, Karabo,\" het hy gesê.  \"Dit is te ruwig.\"\n",
      "\n",
      "Karabo het gehuil. Sy het geweet dit was nie regverdig nie. Sy het hard gewerk in die skool se atletiekspan, en sy was so vinnig soos Pieter!\n",
      "\n",
      "Ouma Rachel, wat in 'n ou boomhuis naby die rugbyveld gewoon het, het Karabo se trane gesien. Sy het stadig uit haar boomhuis afgeklim en vir Karabo 'n soetkoek gegee.\n",
      "\n",
      "\"Wat maak jou so hartseer, my kleintjie?\" het Ouma Rachel saggies gevra.\n",
      "\n",
      "Karabo het alles vertel, haar oë vol trane. Ouma Rachel het gelag, 'n warm, sagte lag.\n",
      "\n",
      "\"Kom, kom,\" het sy gesê. \"Kom ek wys jou iets.\"\n",
      "\n",
      "Ouma Rachel het Karabo na 'n groot klip in die bos gelei. Op die klip was 'n pragtige reënboëgekoue geteken.\n",
      "\n",
      "\"Kyk,\" het Ouma Rachel verduidelik. \"Elke kleur in die reënboë verteenwoordig 'n verskillende mens. Hulle is almal anders, maar hulle pas saam. Dit is soos 'n rugbyspan. Almal is belangrik, ongeag of jy 'n seun of 'n meisie is, hoe jy lyk, of waar jy vandaan kom. Om regverdig te wees, beteken dat almal 'n gelyke kans kry.\"\n",
      "\n",
      "Karabo het verstaan. Sy het gou na die rugbyveld gehardloop en vir Pieter en die ander kinders vertel wat Ouma Rachel gesê het.\n",
      "\n",
      "Pieter het eers geskok gekyk, maar toe het hy geglimlag. Hy het besef Ouma Rachel het reg gewees. Hulle het Karabo in die span ingesluit, en saam het hulle die beste rugbyspan in die hele dorp geword! Almal het gelyk aan die reënboëgekoue op die klip – verskillend, maar sterk en unie. En Karabo? Sy het 'n nuwe rugbybal gekry, en sy was die sterkste speler in die span!\n",
      "\n",
      "--10--\n",
      "Moral_value: Generosity – Encouraging giving to others, particularly those less fortunate.\n",
      "Generated story: Klein Mia en die Groot Hart\n",
      "\n",
      "Klein Mia was ’n lewendige meisiekind met krulhare soos springmielies en oë soos bloublomme. Sy het in ’n groot huis op ’n plaas gewoon, vol speelgoed en lekkers. Maar Mia het ’n hart gehad wat soms ’n bietjie hard en selfsugtig gevoel het.\n",
      "\n",
      "Een warm middag, terwyl Mia met haar splinternuwe rooi fiets gespeel het, het sy ’n ou vrou gesien wat langs die pad gestaan het en ’n blikkie gevra het. Die vrou se klere was dun en vuil, en sy het so maer gelyk dat Mia se maag ’n bietjie seergekry het.\n",
      "\n",
      "Mia het haar fiets stilgesit en ’n blikkie in haar sak gegrawe. Sy het ’n paar muntstukke in die blikkie gesit, maar dit was net ’n paar. Sy het dit vir die vrou gegee, maar toe het sy ’n jammer gevoel gekry. Die muntstukke was nie baie nie.\n",
      "\n",
      "Die vrou het dankie gesê, haar oë blinkend. \"Dankie, my kind,\" het sy saggies gesê.  \"Jy’s baie goedhartig.\"\n",
      "\n",
      "Mia het huis toe gehardloop, haar hart vol ’n vreemde mengsel van skuldigheid en ’n bietjie spyt. Sy het in haar kamer gaan sit en aan die ou vrou gedink. Sy het aan haar eie speelgoed en lekkers gedink, en hoe gelukkig sy was om dit te hê.\n",
      "\n",
      "’n Ideë het in haar kop begin groei. Sy het na haar ouma se kombuis gehardloop, waar sy ’n bak vol vars koekies gevind het. Sy het ’n paar van die lekkerste koekies in ’n papsakkie gepak en teruggehardloop na die ou vrou.\n",
      "\n",
      "Toe sy die vrou sien, het Mia ’n glimlag op haar gesig gehad wat baie groter was as die paar muntstukke in die blikkie. Sy het die koekies vir die vrou gegee, en die vrou het weer dankie gesê, hierdie keer met trane in haar oë.\n",
      "\n",
      "Mia het teruggegaan huis toe, haar hart vol ligte warmte. Sy het besef dat dit baie lekkerder was om te gee as om net te ontvang. Die koekies was eintlik nie belangrik nie; dit was die vreugde om die vrou te help, om haar te laat weet dat iemand omgee, wat belangrik was. Van daardie dag af het Mia se hart ’n bietjie groter geword. Sy het meer gegee, aan die ou vrou, aan die kinders by die skool wat nie veel speelgoed gehad het nie, en aan haar gesin. Sy het geleer dat ware rykdom nie in geld of speelgoed lê nie, maar in die liefde en goedheid wat jy deel met ander. En haar hart? Sy het dit oopgemaak, en dit was ’n groot hart, vol liefde en vrygewigheid.\n",
      "\n",
      "--11--\n",
      "Moral_value: Patience – Fostering calmness and the ability to wait without frustration.\n",
      "Generated story: Wag vir die Papaja\n",
      "\n",
      "Klein Karlien was mal oor papajas! Sy het elke oggend by Ouma se huis aangehardloop, haar oë vol verwagting. Ouma het 'n pragtige papaja-boom in haar tuin gehad, vol ryp, goue vrugte wat net gewag het om geëet te word. Maar vandag was anders.\n",
      "\n",
      "\"Ouma, Ouma!\" het Karlien gehuil toe sy aankom. \"Waar's my papaja? Ek wil nou een hê!\"\n",
      "\n",
      "Ouma het saggies glimlag. Sy het Karlien se hand gevat en haar na die boom geneem.  \"Kyk, Karlien,\" het sy gesê, \"hierdie papajas is nog groen. Hulle moet eers ryp word voor hulle lekker is.\"\n",
      "\n",
      "Karlien het die groen papajas bekyk, haar lippe in 'n frons. Sy het haar voet gestamp. \"Maar ek wil nou een hê! Almal se papajas is al ryp!\"\n",
      "\n",
      "Ouma het haar skouers opgetrek. \"Soms moet ons geduldig wees, my klein engel. Net soos die son en die reën die papajas laat ryp word, moet ons ook wag vir die regte tyd. As ons haastig is, mis ons dikwels die lekkerste dinge.\"\n",
      "\n",
      "Karlien het haar lippe geplooide. Sy het nie verstaan nie. Sy het gevoel soos 'n klein miervogel wat in 'n koue, windse storm vasgevang is.\n",
      "\n",
      "Ouma het 'n stukkie van 'n soet, sappige perske gegee. \"Kom ons eet hierdie perske. Dit is lekker en ryp, net soos jy!\"\n",
      "\n",
      "Karlien het die perske geëet, maar dit het nie lekker gesmaak nie. Sy het steeds net aan die papaja gedink.\n",
      "\n",
      "'n Paar dae later, toe Karlien weer by Ouma se huis aankom, het sy haar oë wyd oopgemaak. Die papaja-boom was vol ryp, goue vrugte! Die soet reuk het haar aangelok.\n",
      "\n",
      "\"Ouma!\" het sy uitgeroep, haar stem vol opgewondenheid. \"Kyk! Die papajas is ryp!\"\n",
      "\n",
      "Ouma het haar omhels. \"Sien jy, Karlien? Geduld is 'n deug. Dit het die tyd geneem wat nodig was, maar nou kan ons almal van hierdie heerlike papajas geniet.\"\n",
      "\n",
      "Karlien het 'n papaja gepluk. Dit was die lekkerste papaja wat sy nog ooit geëet het. Sy het besef dat wag vir die regte tyd, vir die rypte, eintlik baie lekker is. Sy het geleer dat geduld nie net oor wag is nie, maar ook oor die genot van die wattering. En van toe af, het Karlien altyd met 'n glimlag gewag vir die lekkerste dinge in die lewe.\n",
      "\n",
      "--12--\n",
      "Moral_value: Empathy – Helping children understand and care about the feelings of others.\n",
      "Generated story: Klein Karoo se Groot Hart\n",
      "\n",
      "Klein Karoo was 'n bobbejaantjie met 'n klein lyfie, maar 'n groot probleem: hy was heeltemal selfsugtig. Hy het net aan homself gedink! As 'n ander bobbejaantjie sy lekker wurm gegryp het, het Klein Karoo hom gebyt en die wurm weggeneem. Hy het altyd eerste wou sit, eerste wou eet en eerste wou speel.\n",
      "\n",
      "Een sonnige oggend, terwyl Klein Karoo besig was om sy ma se lekkerste mango te steel, het hy 'n ou, siek voëltjie onder 'n boom raakgesien. Die voëltjie se vlerkie was gebreek, en dit het hartseer gepiep. Klein Karoo het hom aanvanklik net aangekyk. Hy't gedink: \"Ek het nog 'n mango nodig! Ek het nie tyd vir 'n siek voëltjie nie.\"\n",
      "\n",
      "Maar toe hy na die voëltjie se trane kyk, het iets in sy hartjie verander. Hy het 'n bietjie jammer gevoel. Hy het nog nooit werklik iemand anders se hartseer gesien nie.\n",
      "\n",
      "Hy het stadig nader gestap en die voëltjie se sagte vere saggies aangeraak. Die voëltjie het 'n bietjie geskrik, maar toe het dit teen Klein Karoo se vinger aangekrap. Klein Karoo het 'n sagte glimlag gegee.\n",
      "\n",
      "Hy het sy laaste mango gepluk – 'n klein, gekneusde een – en dit vir die voëltjie gedeel. Hy het die voëltjie saggies in 'n sagte mandjie gepak en dit na die rivier geneem. Hy het die water vir die voëltjie in 'n blaartjie gegooi en dit saggies op 'n sagte takkie geplaas.\n",
      "\n",
      "Hy het elke dag na die voëltjie gaan kyk. Hy het hom lekker kos gegee en hom saggies in die son laat sonbaai. Hy het selfs liedjies vir hom gesing!\n",
      "\n",
      "Na 'n paar weke het die voëltjie se vlerkie heel geword. Dit kon weer vlieg! Toe die voëltjie sterk genoeg was, het hy hoog in die lug opgesteek en 'n pragtige liedjie gesing voordat hy weggevlieg het.\n",
      "\n",
      "Klein Karoo het onder die boom gaan sit en na die voëltjie kyk. Hy het besef dat deel en omgee baie lekkerder is as om selfsugtig te wees. Sy hart was vol warmte, en hy het geweet hy sou altyd vir ander voëltjies, bobbejane en selfs mense sorg. Sy klein lyfie het 'n groot hart gekry! En hy het geleer dat empatie 'n wonderlike gevoel gee.\n",
      "\n",
      "--13--\n",
      "Moral_value: Humility – Promoting modesty and recognizing the strengths and contributions of others.\n",
      "Generated story: Die Klein Klip met 'n Groot Hart\n",
      "\n",
      "Klein Katinka was 'n kleinding met 'n groot kop. Sy was trots op haar pragtige rooi hare en haar blinkblou oë. Sy kon vinniger hardloop as al die ander kinders in die dorp, en sy het haar altyd daarop gewys.  \"Ek is die vinnigste!\" het sy uitgeroep, terwyl sy ver agter die ander kinders weggespring het.\n",
      "\n",
      "Een dag het die plaas se jaarlikse kompetisies begin. Die eerste kompetisie was 'n klip-op-klip-op-klip-stapkompetisie – 'n lang, steil heuwel vol rotse. Katinka was seker sy sou wen. Sy het vinnig begin loop, maar die rotse was glad en sy het amper geval. Die ander kinders, stadig begin soos hulle was, het haar stadig maar seker oortref.  Hulle het stadig maar seker hul rotse gestap, met geduld en sorg.\n",
      "\n",
      "Klein Willem, 'n seuntjie met oortjies soos 'n muis, het 'n slim plan gehad. Hy het 'n ou, sagte lap by die huis gekry en dit onder sy rotse gesit om die glip te voorkom.  Groot Jan, 'n sterk seuntjie, het sy rotse gedra, een vir een, tot bo, terwyl die ander kinders hom gehelp het.  Selfs Ouma Anna, wat 'n bietjie gestruikel het, het gehelp deur water te bring vir die dorstige kinders.\n",
      "\n",
      "Katinka het moedeloos gestaan en na die ander kinders gekyk, terwyl hulle saamwerkend die heuwel opgeklouter het.  Hulle het gelag en mekaar aangemoedig. Sy het gesien hoe hulle mekaar se kragte gebruik het en hoe hulle mekaar gehelp het.\n",
      "\n",
      "Toe hulle bo was, het almal saam gelag en koeksisters geëet wat Ouma Anna gebak het.  Katinka het besef dat dit nie net oor vinnig hardloop gaan het nie. Dit was ook oor saamwerk, geduld, en om ander se sterk punte te gebruik.\n",
      "\n",
      "Sy het na Klein Willem se sagte lap gekyk en daarna na Groot Jan se sterk arms. Sy het besef dat sy ook baie sterk was, maar dat sy dit alleen nie kon doen nie. Die ander kinders se bydraes was net so belangrik as haar eie spoed.\n",
      "\n",
      "Katinka het nader gestap na Klein Willem en Groot Jan en gesê: \"Julle is almal so slim en sterk! Julle het my bewys dat dit nie net oor spoed gaan nie, maar oor spanwerk en mekaar se hulp.\"\n",
      "\n",
      "Van toe af het Katinka geleer om nederig te wees en ander se bydraes te waardeer. Sy het besef dat die grootste oorwinning nie die wen is nie, maar om saam te werk en mekaar te help. En sy het altyd onthou dat selfs 'n klein klip 'n groot hart kan hê.\n",
      "\n",
      "--14--\n",
      "Moral_value: Self-discipline – Teaching control over impulses and making responsible choices.\n",
      "Generated story: Klein Klippie se Groot Les\n",
      "\n",
      "Klein Klippie, 'n vrolike bobbejaan met 'n stert so lank soos 'n riet, het 'n groot probleem gehad: hy kon glad nie sy impulsie beheer nie! Hy het altyd eers gedink, en toe, as hy 'n lekker ding gesien het – 'n ryp mango, 'n blink nuwe klip, of selfs net 'n vrolike ghoeitjie – het hy dit gegryp sonder om eers te dink.\n",
      "\n",
      "Een dag het Ouma Mielie, die wysste apevrou in die hele bos, vir Klippie 'n pragtige rooi papaja gegee.  \"Kyk net, Klippie,\" het sy gesê, \"Hierdie is die lekkerste papaja in die hele wêreld! Maar eet dit eers net 'n klein stukkie. Geniet elke biteitjie, stadig-stadig.\"\n",
      "\n",
      "Klippie se oë het wyd geword. 'n Lekker, ryp papaja! Hy het dadelik sy hande na die soet vrug gehou en probeer om 'n groot stuk af te byt.  \"Ag nee, wag, Klippie!\" het Ouma Mielie gewaarsku.  \"Eers 'n klein stukkie.\"\n",
      "\n",
      "Maar Klippie kon nie wag nie. Hy het 'n groot, dik stuk afgesny en dit gou-gou opgevreet. Toe was hy klaar! Hy het sy papieren gevee en sy stert geskud, maar hy het 'n bietjie jammer gevoel. Die papaja was mos so lekker dat hy te vinnig geëet het, en nou was hy te vol vir nog 'n lekker hap.\n",
      "\n",
      "Die volgende dag het Ouma Mielie vir Klippie 'n nuwe speletjie gewys. Dit was 'n speletjie waar jy 'n klein klip met jou neus op 'n takkie moes plaas. Klippie was so opgewonde dat hy die speletjie probeer het, maar hy het so hard gehou aan die klip dat hy die takkie afgetrek het!  Hy het gelag, maar toe het hy gesien hoe jammer Ouma Mielie is.\n",
      "\n",
      "\"Klippie,\" het sy saggies gesê, \"As jy jou impulsie beheer, en eers dink voordat jy iets doen, sal jy baie meer pret hê en nie so baie probleme kry nie.\"\n",
      "\n",
      "Klippie het stil geword en aan Ouma Mielie se woorde gedink. Hy het besef sy impulsie het hom in die moeilikheid gekry. Hy het sy oë toegemaak en diep asem gehaal. Die volgende keer het hy 'n lekker mango gesien, maar hy het eers 'n bietjie gedink. Hy het 'n klein stukkie geëet, en toe nog 'n klein stukkie. Hy het die mango stadig geniet, en dit was selfs lekkerder as die eerste keer!\n",
      "\n",
      "En met die speletjie? Hy het stadig, stadig die klip met sy neus op die takkie geplaas. Dit was baie moeiliker as om net hard te trek, maar die resultaat was perfek! Hy het gelag, want hy het geweet hy het sy impulse beheer en die speletjie goed gedoen.\n",
      "\n",
      "Van toe af het Klippie hard probeer om sy impulsie te beheer. Hy het geleer om te wag, om stadig te dink, en om goeie keuses te maak. En hy het besef dat selfdissipline nie net moeilik was nie, maar baie lekker was! Hy het meer pret gehad, minder probleme gehad, en baie meer lekker dinge geniet. En hy het altyd sy Ouma Mielie onthou wat hom geleer het dat selfdissipline die sleutel tot 'n gelukkig en suksesvolle lewe is.\n",
      "\n",
      "--15--\n",
      "Moral_value: Gender Equality – Promoting equal rights and opportunities for all genders.\n",
      "Generated story: Die Meisie met die Stelsel\n",
      "\n",
      "Daar was eendag ‘n klein meisiekind, Nomusa, met krulle soos skaapwol en oë soos die blou see. Sy het in ‘n klein dorpie naby die rivier gewoon, waar al die kinders saam gespeel het, behalwe vir een ding: die seuns het altyd die bakleiers in die sandkassies gewerk, terwyl die meisies net saamgekyk het.\n",
      "\n",
      "Nomusa was nie tevrede nie. Sy wou ook bakleiers bou! Sy het geweet hoe om met hout te werk, sterker as baie van die seuns. Sy het ‘n pragtige stelsel vir ‘n bakleier ontwer, met ‘n heuwel en ‘n klein rivier wat oorheen gevloei het.\n",
      "\n",
      "\"Jy mag nie bakleiers bou nie, Nomusa,\" het die ander meisies gesê. \"Dit is seunswerk.\"\n",
      "\n",
      "Nomusa het haar skouers opgetrek.  \"Maar ek kan dit beter doen as julle!\" het sy gesê, en sy het begin om haar hout en naalde te haal.\n",
      "\n",
      "Die seuns het gelag.  \"Meisies maak net poppehuise,\" het een gesê.\n",
      "\n",
      "Nomusa het nie geluister nie. Sy het haar bakleier gebou, stadig maar seker, met sorg en liefde. Sy het die heuwel perfek gemaak, die rivier met klein klipies uitgebeeld, en selfs ‘n klein houtbrug oor die rivier gebou.\n",
      "\n",
      "Toe dit klaar was, was die seuns stomverbaas. Nomusa se bakleier was pragtig, verfyn en baie beter as enigiets wat hulle nog gesien het. Hulle het vir dae lank saam gespeel, die seuns en die meisies, en almal het besef dat dit nie saak maak of jy ‘n seun of ‘n meisie is nie; dit maak net saak of jy jou beste gee en jou drome volg.\n",
      "\n",
      "Nomusa het geleer dat jy jou eie pad moet loop, ongeag wat ander sê. Sy het gewys dat meisies en seuns albei sterk, slim en kreatiewe mense kan wees, en dat hulle saam, as ‘n span, nog beter kan wees. En van toe af, het al die kinders in die dorpie saam gespeel, sonder om te kyk na hul geslagte, maar na hulle harte.\n",
      "\n",
      "--16--\n",
      "Moral_value: Religious Tolerance – Encouraging understanding and acceptance of different faiths and beliefs.\n",
      "Generated story: Die Fees van Vriendskap\n",
      "\n",
      "Klein Fatima, met haar pragtige swart oë en lang, donker hare, het opgewonde in haar ouma se kombuis rondgespring. Vandag was dit Eid al-Fitr, die fees wat die einde van Ramadaan vier. Die heerlike geur van samoosas en koeksisters het die lug gevul.  Haar ouma het hard gewerk, haar hande vol deeg en speserye.\n",
      "\n",
      "Buite, het sy sy beste vriend, Pieter, sien aankom. Pieter was ‘n bietjie skaam, met sy rooi hare en sproetjies. Hy het elke jaar Kersfees by sy ouma in die Kaap deurgebring, en hy was nog nooit by ‘n Moslem-fees gewees nie.\n",
      "\n",
      "Fatima het Pieter in die kombuis genooi.  \"Kom, Pieter! Ons eet so lekker vandag!\"\n",
      "\n",
      "Pieter het ‘n bietjie gehuiwer, maar toe Fatima hom die heerlike samoosas aangebied het, het hy sy weergawe geneem. Sy oë het wyd geword toe hy die heerlike smaak ontdek het.\n",
      "\n",
      "\"Mmm, dis heerlik!\" het hy uitgeroep.\n",
      "\n",
      "Fatima het gelag. \"Dankie! My ouma se resepte is die beste!\"\n",
      "\n",
      "Hulle het saam gespeel tot laat in die middag. Hulle het ‘n potjie gekry en dit vol water gemaak, en toe ‘n groot waterspuitwedloop gehou. Pieter het selfs Fatima se nuwe Eid-klere natgemaak, maar hulle het albei gelag en gespuit.\n",
      "\n",
      "Later het Pieter vir Fatima vertel van Kersfees, van die Kersboom en die geskenke. Fatima het aandagtig geluister en vir hom vertel van haar fees, van die bederf en die spesiale kos. Sy het hom gewys hoe sy ‘n paar pragtige Eid-kaarte geteken het.\n",
      "\n",
      "Die son het ondergegaan, en die lug was vol sterre. Hulle het saam in die tuin gesit en na die sterre gekyk. Pieter het ‘n vraag gevra. \"Fatima, hoekom is dit belangrik om verskillende feeste te vier?\"\n",
      "\n",
      "Fatima het diep asem gehaal. \"Ek dink dit wys ons dat ons almal verskillend is, maar ons kan steeds vriende wees. Ons kan mekaar se feeste vier en van mekaar leer. Dit maak ons hart vol liefde en vriendskap.\"\n",
      "\n",
      "Pieter het geglimlag. Hy het geweet Fatima het reg. Die fees van Vriendskap was die mooiste fees van almal. En hy het geweet dat hy altyd sy beste vriend, Fatima, sou hê, ongeag watter fees hulle vier.\n",
      "\n",
      "--17--\n",
      "Moral_value: Strength in Diversity – Celebrating the value of different cultures, backgrounds, and perspectives.\n",
      "Generated story: Die Reënboë-Rugbyspan\n",
      "\n",
      "’n Storie oor vriendskap en verskil\n",
      "\n",
      "Die son het bo die Karoo geskyn, die lug ’n helderblou kanvas. In die dorpie Kleinboom, waar die wind deur die mielievelde dans, het ’n rugbyklub, die Kleinboom Koppies, ’n groot probleem gehad. Hulle het net vyf spelers gehad – Sipho, ’n Xhosa-seun met ’n skouspelagtige drif, Fatima, ’n Moslem-meisie met vinnige voete, Liam, ’n Afrikaner-seun met ’n sterk skop, Priya, ’n Indiër-meisie met ’n onklopbare pass, en Zola, ’n Zwart-Afrikaans-meisie met ’n onstuitbare energie.  Die probleem? Hulle kon net vyf spelers kry, en hulle het ’n hele rugbyseisoen voor die boesem gehad!\n",
      "\n",
      "Oupa Piet, die klub se oulike, snorrige afrigter, het sy kop geskud.  \"Ons moet meer spelers kry,\" het hy gesê, sy stem so sag soos ’n mieliekoring. \"Anders wen ons nooit ’n wedstryd nie.\"\n",
      "\n",
      "Sipho, Fatima, Liam, Priya en Zola het elkeen ’n verskillende kultuur en agtergrond. Sipho het altyd van sy ouma se stories oor die Xhosa-volk se tradisies vertel. Fatima het pragtige Moslem-liedjies gesing tydens hul warm-up. Liam het van sy oupa se stories oor die Groot Trek vertel. Priya het altyd heerlike koeksisters na die wedstryde gebring. En Zola? Zola was net Zola – vol energie en skoppe!\n",
      "\n",
      "Een dag het Oupa Piet ’n wonderlike idee gehad. \"Kom ons nooi al die kinders in die dorpie vir ’n rugbydag!\" het hy uitgeroep. \"Kom ons wys hulle hoe pret rugby kan wees, en dalk wil hulle aansluit!\"\n",
      "\n",
      "Die rugbydag was ’n fees van kleure en klanke.  Kinders van alle kulture het gekom – van Zoeloe-kinders tot Portugese kinders, van Griekse kinders tot Namibiërs. Hulle het saam gespeel, gelag en geëet. Hulle het nuwe vriende gemaak en mekaar se verskillende tradisies ontdek.\n",
      "\n",
      "Toe die rugbydag verby was, het die Kleinboom Koppies ’n hele nuwe span gehad! Hulle was nie net vyf nie, maar tien! Hulle was ’n ware reënboë-span, elk uniek en spesiaal. Hulle het geleer dat hulle verskille hulle sterker gemaak het. Sipho se drif, Fatima se spoed, Liam se skop, Priya se pass, Zola se energie – saam was dit ’n onklopbare span!\n",
      "\n",
      "Die seisoen was ’n groot sukses! Die Kleinboom Koppies het baie wedstryde gewen, nie net omdat hulle talentvol was nie, maar omdat hulle saamgewerk en mekaar aangemoedig het. Hulle het bewys dat sterk spanwerk en respek vir mekaar die sleutel tot sukses is, ongeag jou agtergrond. En die dorpie Kleinboom? Dit het ’n pragtige reënboë-rugbyspan gekry, ’n simbool van hul diversiteit en vriendskap.\n",
      "\n",
      "--18--\n",
      "Moral_value: Racial Equality – Fostering respect and equality among all races, promoting fairness and inclusion.\n",
      "Generated story: Die Rainbow Rugbykommando\n",
      "\n",
      "Toe die son oor die Karoo geskyn het, het ’n wonderlike rugbykommando in die stof gevorm. Dit was die Rainbow Rugbykommando, ’n span wat elke kind in die dorp ingesluit het – swart, wit, bruin, Indiërs, selfs ’n paar mense met ’n bietjie van alles!  Sommige het in groot huise gewoon, ander in kleiner huise. Sommige het kosbare boeke gehad, ander net ’n paar ou strokiesboeke. Maar in die Rugbykommando was almal ewe belangrik.\n",
      "\n",
      "Kaptein van die span was Nomusa, ’n meisie met krulhare so donker soos die nag. Sy was slim, sterk en het ’n hart van goud gehad. Haar visekaptein was Pieter, ’n seuntjie met sproetjies en blou oë, wat altyd laggende was. Pieter was slim met sy hande en kon die lekkerste rugbyballe uit ou bande maak.\n",
      "\n",
      "Een dag moes hulle teen die sterkste span in die hele distrik, die Bloubulle, speel. Die Bloubulle was bekend vir hulle skel en skinder; hulle het ander kinders gejaag en gepla as hulle nie dieselfde kleur vel gehad het nie. Die Rainbow Rugbykommando was bang.\n",
      "\n",
      "\"Ek dink ons gaan verloor,\" het Sipho, ’n sterk seuntjie met ’n breë glimlag, gefluister.\n",
      "\n",
      "\"Nee, ons kan wen!\" het Nomusa geantwoord. \"Ons is ’n span, en ons help mekaar.\"\n",
      "\n",
      "En help mekaar het hulle! Pieter het sy wonderlike rugbyballe gebruik om die Bloubulle te verwar. Nomusa het slim taktiek gebruik. Siya, ’n seuntjie met ’n helder glimlag, het die bal vinnig en akkuraat gegooi. Selfs Fatima, die jongste leuseuntjie, het haar eie manier gevind om die Bloubulle te irriteer – sy het altyd gelag, selfs toe dit moeilik was.\n",
      "\n",
      "Hulle het saam gewerk, elkeen gebruik hulle eie sterk punte. Hulle het gelag, gesing en mekaar aangemoedig. Uiteindelik het hulle die Bloubulle verslaan! Die hele dorp het hulle gevier.\n",
      "\n",
      "Toe die feesmaal klaar was, het Nomusa vir almal gesê: \"Ons het gewen, nie omdat ons almal dieselfde was nie, maar omdat ons almal saam gewerk het. Ons is sterk omdat ons verskillend is, en ons respekteer mekaar.\"\n",
      "\n",
      "En so het die Rainbow Rugbykommando geleer dat verskillend wees nie swak is nie, maar sterk. Hulle het getoon dat vriendelikheid, respek en saamwerk sterker is as enige ander faktor. Hulle het gewys dat ware vriendskap bo alles kom, ongeag die kleur van jou vel. En hulle het die hele dorp daarmee geïnspireer.\n",
      "\n",
      "--19--\n",
      "Moral_value: Environmental Stewardship – Encouraging responsibility for protecting the planet and its resources.\n",
      "Generated story: Karlien en die Verlore Walvis\n",
      "\n",
      "Klein Karlien het met haar ouma se handjies op die warm, sagte sand geloop. Die see het diepblou glinster in die middagson, en die lug was helderblou, net soos die see.  Ouma het haar hand vasgehou en gesê: “Kyk, Karlien, na die mooi see.  Kom ons gaan ‘n bietjie visvang.”\n",
      "\n",
      "Karlien het haar oë wyd oopgemaak. Sy het baie van die see gehou, maar sy het nog nooit ‘n vis gevang nie! Ouma het ‘n ou, hout hengel uit haar mandjie gehaal. Die hengel was so oud soos Ouma self, dink Karlien.\n",
      "\n",
      "Hulle het ‘n lekker lekker tyd gehad, en Karlien het selfs ‘n klein vissie gevang – ‘n blink, kleurryke klippies vis.  Ouma het die vissie teruggegooi.  “Ons vang net genoeg vir onsself, Karlien,” het sy gesê. “Die see het baie vis nodig, net soos ons kos nodig het.”\n",
      "\n",
      "Toe hulle terug huis toe loop, het Karlien ‘n groot blikkie plastieksakkies langs die see gesien.  Die wind het dit rondgegooi soos verlore kinders.  “Ouma,” het Karlien gevra, “wat maak al hierdie sakkies hier?”\n",
      "\n",
      "Ouma het diep gesug. “Dit is die vrotte werk van mense, Karlien,” het sy gesê.  “Hulle gooi net die sakkies weg sonder om te dink aan die see, of die diertjies wat daar woon.  Die sakkies raak in die see vasgevang, en die diertjies vreet dit aan, en dit maak hulle siek.”\n",
      "\n",
      "Karlien se oë het vol trane geword. Sy het geweet sy moes iets doen. Saam met Ouma het sy al die sakkies opgetel. Hulle het dit in ‘n groot plastiek sak gepak en dit by die herwinningsentrum gelaat.\n",
      "\n",
      "Die volgende dag het Karlien haar ouers vertel wat sy en Ouma gedoen het.  Saam het hulle ‘n plan beraam om meer te doen. Hulle het ‘n herwinningsentrum by die huis begin, en Karlien het ‘n projek by die skool begin oor hoe om die omgewing te beskerm.\n",
      "\n",
      "Karlien het besef dat dit belangrik is om verantwoordelik te wees vir die planeet.  Die see, die bome, die diertjies – alles is belangrik, en ons moet almal ons deel doen om dit te beskerm.  Sy het geleer dat selfs ‘n klein meisie ‘n groot verskil kan maak, as sy net wil.  En sy het geweet sy sou aanhou om te doen wat reg is, want die see, en die wêreld, is alles wat sy het.\n",
      "\n",
      "--20--\n",
      "Moral_value: Compassion for Animals – Promoting kindness and care for all living creatures.\n",
      "Generated story: Karlien en die Koue Katjie\n",
      "\n",
      "Klein Karlien het op ’n boerdery naby die Magaliesberge gewoon. Sy het elke dag met die diertjies gespeel: die skape se sagte wol, die bok se lui geblêr, en selfs die grom van Oom Koos se bees was bekend aan haar ore. Maar een dag het ’n klein, maer katjie haar hartjie seergemaak.\n",
      "\n",
      "Sy het die katjie onder ’n doringsboom gevind. Die wind het gehoes, en die katjie het bewend geskud, sy lyfie vol vlooie. Sy het maer en seer gelyk, haar pels vuil en verward. Karlien se hart het seer gekry.\n",
      "\n",
      "\"Mamma,\" het sy gesê, haar stemmetjie vol trane, \"ek wil hom help!\"\n",
      "\n",
      "Haar mamma, ’n sagte vrou met sagte hande, het die katjie saggies opgetel. \"Hy's koud en honger, my liefling,\" het sy gesê. \"Kom, ons maak hom warm en gee hom iets om te eet.\"\n",
      "\n",
      "In die huis het hulle die katjie in ’n sagte lappebakkie geplaas. Mamma het hom warm sop gegee, en Karlien het hom ’n bietjie van haar koeksisters gegee – ’n klein stukkie wat sy net vir hom gereserveer het.\n",
      "\n",
      "Die katjie het stadig, stadig beter geword. Hy het in die son gaan lê en sy pels begin skitter. Hy het selfs begin miaau, ’n sagte \"meow\" wat Karlien se hart vol vreugde gemaak het.\n",
      "\n",
      "Karlien het die katjie elke dag besoek. Sy het hom met sagte woorde aangeraak en saggies met hom gespeel. Sy het selfs ’n naam vir hom gegee: Mielie.\n",
      "\n",
      "Mielie en Karlien het vinnig beste maats geword. Mielie het Karlien altyd gegroet toe sy binnekom, en hy het langs haar gesit terwyl sy haar huiswerk gedoen het. Hy was altyd daar, ’n klein, sagte vriend.\n",
      "\n",
      "Karlien het geleer dat al die diertjies, groot en klein, sorg en liefde verdien. Selfs ’n klein, maer katjie wat koud en honger was, kon ’n baie goeie vriend word as jy hom net ’n kans gee. En sy het besluit om altyd vir al die diertjies om haar, groot en klein, te sorg en te respekteer. Die liefde en vriendelikheid wat sy vir Mielie gegee het, het haar eie hart vol gemaak met ’n sagte warmte wat selfs warmer as die Magaliesberge se son was.\n",
      "\n",
      "--21--\n",
      "Moral_value: Peacefulness – Teaching peaceful conflict resolution and the importance of non-violence.\n",
      "Generated story: Die Dapper Leeutjie\n",
      "\n",
      "Klein Leeutjie, met sy sagte, goue mannetjie, was baie kwaad. Sy ouer broers, Groot Leeutjie en Sterk Leeutjie, het sy gunsteling speelding, 'n sagte wildebees-pop, gevat en dit stukkend gebyt. Trane het oor sy neus afgerol. Hy het gebrul, maar sy brom was net 'n klein, piepklein brommetjie.\n",
      "\n",
      "Groot Leeutjie en Sterk Leeutjie het gelag. \"Jy's net 'n klein dingetjie,\" het Groot Leeutjie gespot. \"Jy kan niks doen nie!\"\n",
      "\n",
      "Klein Leeutjie het sy tande gebyt, maar hy het geweet sy broers was sterker as hy. Hy het diep asem gehaal en 'n beter plan beraam. Hy het stadig na die rivier geloop, sy klein pote stadig op die droë grond. Hy het 'n mooi, gladde klip gevind en dit saggies in sy bek gegryp.\n",
      "\n",
      "Toe hy terugkom, het Groot Leeutjie en Sterk Leeutjie besig gewees om met die stukke van sy pop te speel. Klein Leeutjie het stadig nader geloop, sy klein stertjie het amper nie beweeg nie. Hy het die klip in sy bek styf gebyt en toe, met al sy mag, die klip teen 'n boomstam geslaan.\n",
      "\n",
      "'n Sterk, skerp geluid het deur die bosse weergalm. Groot Leeutjie en Sterk Leeutjie het geskrik en teruggeval. Hulle het klein, skerp brommetjies gemaak, maar Klein Leeutjie het stilgebly. Hy het die klip weer gegryp en nog 'n keer teen die boomstam geslaan.\n",
      "\n",
      "Die skerp klanke het die ander diere in die bos gewaarsku. 'n Grys muis het piepklein gepiep, 'n slim jakkals het 'n skerp \"haw-haw\" gemaak, en selfs 'n ou olifant het sy tande gefrons. Almal het na die herrie toe geloop.\n",
      "\n",
      "Toe sien hulle Klein Leeutjie, klein maar dapper, met die klip in sy bek. Groot Leeutjie en Sterk Leeutjie het skuldig gekyk. Hulle het gesien hoe Klein Leeutjie se sagte oë vol trane was, maar ook vol moed.\n",
      "\n",
      "Die ou olifant het stadig nader geloop. \"Kinders,\" het sy sagte stem gesê, \"geweld lossaam niks. Woorde en verdraagsaamheid is sterker as krag. Kom ons praat en vind 'n oplossing.\"\n",
      "\n",
      "Groot Leeutjie en Sterk Leeutjie het hul koppe laat hang. Hulle het jammer gevoel vir Klein Leeutjie en vir hul eie gedrag. Hulle het hul tande gebyt en erken dat Klein Leeutjie reg was – hulle moes leer om beter saam te speel.\n",
      "\n",
      "Klein Leeutjie het die klip neergesit en sy trane afgevee. Hy het sy broers vergewe, want hy het geweet dit was belangrik om vrede te maak. Hy het met hulle saam gespeel, hierdie keer met respek en begrip.\n",
      "\n",
      "Van daardie dag af het Groot Leeutjie, Sterk Leeutjie en Klein Leeutjie altyd probeer om vrede te maak. Hulle het geleer dat woorde en verdraagsaamheid sterker is as enige klip of gebrul. En die bos was 'n baie kalmer plek, danksy Klein Leeutjie se dapperheid en die ander diere se wysheid.\n",
      "\n",
      "--22--\n",
      "Moral_value: Gratitude for Simple Things – Encouraging appreciation of everyday moments and small acts of kindness.\n",
      "Generated story: Klein Dinge, Groot Geluk\n",
      "\n",
      "’n Storie oor dankbaarheid\n",
      "\n",
      "Klein Karlien het ’n bietjie van ’n suurlemoen wees. Alles was verkeerd. Die son was te warm, die wind te koud, en haar pap was te dik. Sy het gekla en gekla en gekla – oor die kleinste dinge. Haar ouma, Tant Elza, het haar met sagte oë gekyk.\n",
      "\n",
      "“Karlien-kind,” het Tant Elza gesê, haar stem sag soos sagte mielieblompap, “dink jy jy het ooit iets om dankbaar vir te wees?”\n",
      "\n",
      "Karlien het haar skouers opgetrek. “Nee,” het sy gemompel.\n",
      "\n",
      "Tant Elza het saggies ’n pragtige, rooi papawer in haar hand gehou.  “Kyk na hierdie blommetjie,” het sy gesê. “So klein, so eenvoudig, maar so mooi, nè? Dit groeier in die grond, sonder om te kla oor die reën of die son. Dit gee ons skoonheid, gratis. Ons hoef nie daarvoor te betaal nie.”\n",
      "\n",
      "Sy het ’n sappige, ryp perske uit haar mandjie gehaal. “En hierdie perske? Dit het gegroei op die boom, vol son en reën. Dit gee ons lekker kos, vol vitamiene. Ons hoef nie daarvoor te werk nie.”\n",
      "\n",
      "Tant Elza het Karlien se hand geneem en haar buite na die pragtige blou hemel gelei. “Die lug, die bome, die voëlsong – al hierdie dinge is geskenke. Ons hoef nie daarvoor te betaal nie.”\n",
      "\n",
      "Karlien het vir ’n oomblik stil geword. Sy het na die papawer gekyk, na die perske, na die blou lug. Sy het gevoel hoe die warm son op haar vel val. Dit was mooi. Dit was lekker. En dit was gratis.\n",
      "\n",
      "Sy het stadig na Tant Elza gekyk. “Ouma,” het sy gefluister, haar oë blinkend, “Ek is dankbaar vir die papawer. Ek is dankbaar vir die perske. Ek is dankbaar vir die son en die lug en die bome.”\n",
      "\n",
      "Van daardie dag af het Karlien se lewe verander. Sy het begin kyk na die klein, eenvoudige dinge. Sy het die pragtige voëlsong geniet, die warm son op haar vel gevoel, en die sagte briesie in die bome. Sy het die klein dingetjies begin waardeer – die glimlag van ’n vriend, ’n koppie warm sjokolade, ’n sagte lap. En sy het geleer om dankbaar te wees vir al die goed in haar lewe. Want sy het besef dat die mooiste dinge dikwels die kleinste is.\n",
      "\n",
      "--23--\n",
      "Moral_value: Sharing – Teaching the value of sharing what we have with others.\n",
      "Generated story: Karlien se Groot Hart\n",
      "\n",
      "Klein Karlien het ‘n hele sak vol lekkers gehad.  Ouma het dit vir haar gebak, goue sterte en blou sterre, soet en sappig. Karlien het dit in haar kamer weggesteek, agter haar ou, mieliekassie-huis. Sy wou dit net vir haarself hê.\n",
      "\n",
      "Toe kom haar vriendjies, Sipho en Nomsa, speel. Hulle wou saam met Karlien haar nuwe speletjie, \"Helikopterjag\" speel. Maar Karlien was te besig met haar lekkers. Sy het een vir haarself geëet, dan nog een, en nog een. Sy het selfs een in haar sak weggepak vir later.\n",
      "\n",
      "Sipho en Nomsa het gewag en gewag, maar Karlien het net aan haar lekkers gebyt. Toe het Nomsa begin huil.  \"Ek wil ook ‘n lekkertjie hê,\" het sy gesê. Haar oë was vol trane.\n",
      "\n",
      "Sipho het gesê: \"Karlien, dit is nie regverdig nie. Jy het baie lekkers, ons het glad nie.\"\n",
      "\n",
      "Karlien het opgekyk, haar mond vol lekkers. Sy het gesien hoe Nomsa se lippe bewe, en hoe Sipho se oë seer was van die huiling. Sy het skielik besef hoe alleen sy gevoel het, selfs al het sy al die lekkers.\n",
      "\n",
      "Sy het diep asem gehaal.  \"O, ek is jammer,\" het sy gesê. Sy het ‘n handvol lekkers uit haar sak gehaal en dit aan Sipho en Nomsa gegee. \"Hier julle, neem julle lekker. Ons kan saam speel.\"\n",
      "\n",
      "Sipho en Nomsa se oë het groot geword. Hulle het gelag en die lekkers met genot geëet. Hulle het saam gespeel, en Karlien het besef dat die lekkers baie lekkerder was toe sy dit met haar vriende gedeel het. Sy het gelag en saam met hulle gespeel, en haar hart was vol, vol van vreugde.\n",
      "\n",
      "Die middag het Karlien ‘n baie groter hart gehad as die sak vol lekkers. Sy het geleer dat deel ander gelukkig maak, en dat deel selfs meer pret is as om alles vir jouself te hou. En sy het geweet dat sy altyd haar lekkers, en haar hart, sal deel.\n",
      "\n",
      "--24--\n",
      "Moral_value: Independence and Self-reliance – Encouraging confidence in one’s abilities and the importance of taking initiative.\n",
      "Generated story: Klein Kat se Groot Avontuur\n",
      "\n",
      "Klein Kat, 'n klein, maer katjie met oë soos smaragde, het altyd in haar ouma se lap vasgeklou. Sy het haar ouma se rok se moue gebruik as 'n veilige skuilplek, en haar ouma se handjies as 'n sagte bed. Sy het nog nooit 'n stap sonder haar ouma geneem nie.\n",
      "\n",
      "Een sonnige oggend het Ouma Kat 'n boontjiekoek vir Klein Kat gebak.  \"Hier's jou koekie, my klein liefling,\" het Ouma gesê.  \"Maar vandag moet jy jou eie wegloopie kry. Ek moet 'n bietjie werk doen.\"\n",
      "\n",
      "Klein Kat se oë het groot geword. Wegloopie? Alleen? Haar hart het in haar keel vasgeklem.  \"Maar Ouma,\" het sy gepiep, \"wat as ek verlore raak? Wat as ek 'n leeutjie sien?\"\n",
      "\n",
      "Ouma het saggies glimlag.  \"Moenie bekommerd wees nie, my klein engel,\" het sy gesê. \"Jy is sterk en slimmer as wat jy dink. Jy kan dit doen! Kyk, ek teken jou 'n kaartjie.\"\n",
      "\n",
      "Ouma het 'n eenvoudige kaartjie op 'n stukkie papier geteken, met 'n kruis waar hulle was, en 'n ander kruis by die rivier waar sy Klein Kat sou soek.\n",
      "\n",
      "Klein Kat het die koekie in haar mou vasgeklou en stadig begin stap. Haar pote het geskud, maar sy het diep asem gehaal en aangehou loop. Die son het warm op haar rug gekrop, maar sy het aangehou loop. Sy het die mooiste blomme langs die pad gesien, en 'n hele klomp voëls wat gesing het. Sy het selfs 'n muis gesien wat sy wou vang, maar toe het sy gedink aan haar ouma se woorde: \"Jy kan dit doen!\"\n",
      "\n",
      "Aan die rivier het Klein Kat haar ouma gesien. Sy het 'n groot glimlag gehad en haar arms oopgemaak. Klein Kat het aangehardloop, haar hart vol blydskap. Sy het haar ouma omhels en haar koekie gedeel.\n",
      "\n",
      "\"Ek het dit gedoen, Ouma!\" het sy uitgeroep. \"Ek was nie bang nie! Ek het selfs 'n kaartjie geteken!\" Sy het die kaartjie gewys, vol strepies en klippe.\n",
      "\n",
      "Ouma het haar omhels. \"Sien jy, Klein Kat?\" het sy gesê. \"Jy is baie dapper en sterk. Jy kan enige ding doen as jy net in jouself glo.\"\n",
      "\n",
      "Van daardie dag af was Klein Kat nie meer bang vir die donker nie, of die wind wat deur die bome gefluister het. Sy het geleer om op haar eie voete te staan, en sy het baie meer avonture gehad. Sy het selfs 'n paar muise gevang! En sy het altyd onthou: 'n bietjie selfvertroue kan 'n groot verskil maak.\n",
      "\n",
      "--25--\n",
      "Moral_value: Speaking Out Against Injustice – Instilling the courage to stand up against unfairness, discrimination, or wrongdoing. This value teaches children that they have the power and responsibility to challenge injustice, whether it is directed at them or others, and to advocate for fairness and equality in their communities.\n",
      "Generated story: Klein Karoo en die Donker Reën\n",
      "\n",
      "Klein Karoo was 'n klein, maer seuntjie met oë so blou soos die helder Karoo-lug. Hy het op 'n plaas naby Beaufort-Wes gewoon, tussen die doringsbome en die skape.  Hy het geliefd om te ruik hoe die grond na die reën gegeur het, en hy het geliefd om te speel met sy ouma se kat, Mielie.\n",
      "\n",
      "Een dag het 'n nuwe man op die plaas begin werk. Oom Piet was groot en sterk, met 'n skerp stem wat die voëls laat stil raak het. Hy het die ander werkers beveel om harder te werk en het hulle met vingers gewys en geskree. Hy het altyd gesê: \"Julle is net werkers! Julle verdien niks!\"\n",
      "\n",
      "Klein Karoo het dit gesien. Hy het dit gehoor hoe Oom Piet die ander werkers, veral Tannie Fatima, 'n vrou met hande so gerimpeld soos die vel van 'n droë komkommer, geboelie het. Tannie Fatima het stil gebly, haar oë vasgenael op die grond.\n",
      "\n",
      "Klein Karoo was kwaad.  'n Brandende brandergie het in sy bors gekrop. Hy het na sy ouma gehardloop.\n",
      "\n",
      "\"Ouma,\" het hy gesê, sy stemmetjie amper fluisterend, \"Oom Piet is sleg vir Tannie Fatima. Hy sê sy's niks.\"\n",
      "\n",
      "Sy ouma, met haar sagte hande en 'n hart van goud, het hom in haar arms geneem.  \"Moenie stilbly nie, my kleinkind,\" het sy gesê.  \"Selfs 'n klein stemmetjie kan 'n groot verskil maak. Kom, ons gaan na Tannie Fatima.\"\n",
      "\n",
      "Saam het hulle na Tannie Fatima toe gegaan. Klein Karoo het sy ouma se hand vasgehou.  Hy het diep asem gehaal en gesê: \"Oom Piet is verkeerd! Jy is 'n goeie werker, Tannie Fatima. Jy werk hard, en jy verdien respek.\"\n",
      "\n",
      "Tannie Fatima se oë het verlig. Sy het gesnik en gesê: \"Dankie, klein Karoo. Niemand het ooit vir my gesê ek is belangrik nie.\"\n",
      "\n",
      "Die volgende dag het Klein Karoo se pa na Oom Piet toe gegaan. Hy het hom vermaan om Tannie Fatima met respek te behandel. Hy het gesê dit was verkeerd om haar so te behandel. Oom Piet het stil geword, sy gesig rooi van skande.\n",
      "\n",
      "Die plaas het 'n bietjie beter gevoel daarna. Die ander werkers het 'n bietjie opgehelp, en Tannie Fatima het weer met 'n glimlag gewerk. Klein Karoo het besef dat selfs 'n klein seuntjie 'n groot verskil kan maak as hy teen onregverdigheid opstaan. En die donkerste reën kan 'n helder dag vol hoop bring.\n",
      "\n",
      "--26--\n",
      "Moral_value: Being On Time – Teaching the value of punctuality and respect for others’ time, reinforcing discipline and reliability.\n",
      "Generated story: Koos en sy Klokkommando\n",
      "\n",
      "Klein Koos, met sy sproetjies soos sterretjies op sy neus, was 'n bietjie van 'n laatkomer. Hy het die wêreld in sy eie tyd beleef, en tyd was net 'n woord in die woordeboek, nie 'n iets wat regtig bestaan het nie. Sy ma het al honderd miljoen keer gesê: \"Koos, wees asseblief betyds!\" maar Koos het net sy skouers opgetrek en 'n nuwe storie vertel.\n",
      "\n",
      "Een sonnige Saterdag het Koos se ouma vir hom, sy sussie Elza en hul beste maatjie, Karlien, 'n heerlike braaivleisang uitgenooi. Die braai was by die rivier, waar die water soos 'n blink silwer toueloop. Koos het die hele week gedroom van die heerlike worsrolletjies en vlammende koeksisters.\n",
      "\n",
      "Die tyd van die braai was presies 12:00. Koos het die aand tevore sy nuwe superheld-komiekboek begin lees en het vergeet om die tyd te kyk. Hy het so lekker geslaap, dat die son amper die middag was toe hy wakker geword het.\n",
      "\n",
      "Hy't haastig sy klere aangetrek, sy tande geborsel (met 'n bietjie te veel skoonmaakmiddel, natuurlik) en toe hy buite kom, sien hy Elza en Karlien reeds by die hek. Hulle het al hulle sakke vol lekkers en 'n groot emmer vol water vir die sandkasteel ingepak.\n",
      "\n",
      "\"Koos, jy's laat!\" het Elza uitgeroep, haar oë groot soos bosbessies.\n",
      "\n",
      "Koos het 'n bietjie skaam gebly. Hy het geweet hy het sy ma teleurgestel. Hy't vinnig 'n seuntjie-glimlag aangepak en gesê: \"Ek het 'n bietjie laat wakker geword. Maar ek het 'n wonderlike storie oor superheld wat ek gekry het!\"\n",
      "\n",
      "Karlien het saggies geglimlag. \"Kom ons gaan anyway. Ouma se worsrolletjies is heerlik!\"\n",
      "\n",
      "By die rivier was die braai al in volle swang. Die heerlike reuk van gebraaide wors en boerewors het Koos se maag laat grom. Ouma het hom warm verwelkom en hom 'n ekstra worsrolletjie gegee.\n",
      "\n",
      "Terwyl hulle saam gespeel het, het Koos 'n bietjie dink. Hy het besef dat sy laatkomery nie net homself beïnvloed het nie. Hy het Elza en Karlien laat wag, en hulle het dalk misloop om die mooiste blomme te pluk of die beste klippe te soek. Hy het ook Ouma se tyd verspil, en sy wou graag almal saam geniet het.\n",
      "\n",
      "Die volgende dag het Koos sy ouma gevra of sy hom kan help om 'n beter tydbeplanning te leer. Ouma het hom 'n ou, rooi horlosie gegee. \"Hierdie horlosie,\" het sy gesê, \"is jou Klokkommando. Dit help jou om betyds te wees en ander te respekteer.\"\n",
      "\n",
      "Van toe af was Koos nie meer 'n laatkomer nie. Hy het sy Klokkommando noukeurig dopgehou en geleer om sy tyd te bestuur. Hy het altyd betyds vir skool, vir sy rugby-wedstryde en vir sy ouma se braaivleisang. Hy het besef dat betyds wees nie net oor die tyd is nie, maar ook oor respek en verantwoordelikheid. En hy het altyd 'n ekstra worsrolletjie vir sy vriende by die braai.\n",
      "\n",
      "--27--\n",
      "Moral_value: Striving for Excellence – Instilling a mindset of doing one’s best and aiming for high standards in all pursuits, whether in school, hobbies, or personal goals.\n",
      "Generated story: Klein Leeutjie se Groot Spring\n",
      "\n",
      "Klein Leeutjie was 'n bietjie van 'n lui leeutjie. Hy het baie graag gespeel, maar sy ma se woorde, \"Klein Leeutjie, jy moet jou beste doen!\" het hom laat frons. Hy het gevoel dit is te moeilik. Die ander leeutjies in die mane se groep het almal beter gespring as hy, hulle het vinniger gehardloop en hulle kloue skerp gemaak het. Klein Leeutjie se kloue was dof en sy spronge was kort en onakkuraat.\n",
      "\n",
      "Een dag het die ou manelees, Oupa Leeu, 'n kompetisie aangekondig. Die wenner sou 'n spesiale stuk vleis kry – 'n hele Impala-nek! Al die leeutjies was opgewonde, behalwe Klein Leeutjie. Hy het net gesê: \"Ek sal probeer.\"\n",
      "\n",
      "Sy ma het hom gehelp om sy kloue skoon te maak.  \"Kyk, Klein Leeutjie,\" het sy gesê, \"jou kloue is sterk, maar hulle moet skerp wees vir 'n goeie sprong. Jy moet jou beste gee.\"\n",
      "\n",
      "Klein Leeutjie het 'n paar dae lank geoefen. Hy het die hele dag gespring en gehardloop. Hy het sy spronge langer en hoër gemaak. Hy het sy ma se raad gevolg en sy kloue skoongemaak. Hy het selfs 'n paar ekstra oefeninge bygevoeg wat Oupa Leeu vir hom gewys het.\n",
      "\n",
      "Op die dag van die kompetisie was Klein Leeutjie baie senuweeagtig. Hy het diep asem gehaal en sy ma se woorde onthou: \"Klein Leeutjie, jy moet jou beste doen!\"\n",
      "\n",
      "Hy het sy beste gegee. Hy het 'n sprong gemaak wat langer en hoër was as al die ander leeutjies. Hy het vinniger gehardloop en met sy skerp kloue met groot akkuraatheid geklou. Hy het alles gehad wat hy in hom gehad het.\n",
      "\n",
      "Toe die punte aangekondig word, het Klein Leeutjie se hart begin klop soos 'n drom. Hy het eerste gekom! Hy het die Impala-nek gewen!\n",
      "\n",
      "Klein Leeutjie het besef dat sy ma reg was. Om jou beste te doen is nie altyd maklik nie, maar dit voel baie beter as jy weet jy het jou almal gehad. Hy het geleer dat volharding en toewyding jou ver neem, selfs vir 'n lui leeutjie. Van toe af het Klein Leeutjie altyd sy beste probeer, en hy het altyd goed gevaar.\n",
      "\n"
     ]
    }
   ],
   "source": [
    "# Print the generated stories\n",
    "\n",
    "for i in range(0, len(df_eval)):\n",
    "\n",
    "    moral_value = df_eval.loc[i, 'moral_value']\n",
    "    generated_story = df_eval.loc[i, 'generated_story']\n",
    "\n",
    "\n",
    "    print(f\"--{i}--\")\n",
    "    print(f\"Moral_value: {moral_value}\")\n",
    "    print(f\"Generated story: {generated_story}\")\n",
    "    print()"
   ]
  },
  {
   "cell_type": "markdown",
   "metadata": {
    "id": "xQJ1o0ZREIqo"
   },
   "source": [
    "## Check for randomness\n",
    "\n",
    "Check that, given the same input, the model always generates a different story."
   ]
  },
  {
   "cell_type": "code",
   "execution_count": 39,
   "metadata": {
    "id": "tWb9K5EID9re",
    "outputId": "fb11adf2-124c-4523-e9b0-4712fcf47fc6"
   },
   "outputs": [
    {
     "name": "stdout",
     "output_type": "stream",
     "text": [
      "--0--\n",
      "---Moral value---\n",
      "Gratitude – Emphasizing thankfulness for what one has and the kindness of others.\n",
      "\n",
      "---Generated story---\n",
      "Klein Mielie se Dankie-Boompies\n",
      "\n",
      "Klein Mielie, ’n klein, bruin meisie met krulhare soos springmielies, het baie gehad. Sy het ’n warm huis met ’n ouma wat heerlike koekies gebak het. Sy het ’n ou, maar lieflike kat, Smous, en ’n tuin vol lekkers: ryp vye, soet perskes en sappige appels. Maar Klein Mielie was altyd ontevrede.  \"Ek wil ’n nuwe fiets hê,\" het sy gekla. \"En ’n pienk pop! En sjokolade vir ontbyt!\"\n",
      "\n",
      "Een dag het Ouma Mielie se gunstelingkoekies gebak, heerlike, warm kaneelkoekies. Mielie het dit geproe, maar sonder ’n woord gevra vir sjokolade. Toe sy die koekies wegwerp, het Ouma saggies gesê: \"Mielie, kind, kyk mooi rond. Kyk na jou huis, na Smous, na die vrugte in die tuin. Is daar dalk iets waarvoor jy dankbaar kan wees?\"\n",
      "\n",
      "Mielie het stil geword en om haar gekyk. Sy het die sagte kombers op haar bed, die son wat deur die venster skyn en die sagte miauw van Smous gehoor. Sy het aan die vrugte in die tuin gedink, en aan Ouma se liefde. Trâne het in haar oë opgewel.\n",
      "\n",
      "\"Ouma,\" het sy gefluister, \"ek is jammer. Ek is so dankbaar vir jou, vir die koekies, vir Smous, vir die huis en die tuin. Ek is jammer dat ek kla.\"\n",
      "\n",
      "Ouma het Mielie omhels.  \"Dit is okay, my liefling,\" het sy gesê. \"Almal maak foute. Maar dit is belangrik om dankbaar te wees vir wat jy het, en vir die goedheid van ander.\"\n",
      "\n",
      "Daarna het Mielie ’n boom geplant.  ’n Dankie-boompjie. Elke keer as sy ’n mooi vrug gepluk het, ’n warm bad geniet het of Smous se miauw gehoor het, het sy ’n klein klip by die boompjie gelê.  Die Dankie-boompjie het gou gegroei, ’n pragtige boom vol sappige vrugte, ’n simbool van Mielie se dankbaarheid. Sy het geleer dat dankbaarheid nie net ’n woord is nie, maar ’n gevoel wat jou hart vol maak. En sy het baie meer van die lewe begin geniet, want sy het altyd iets om dankbaar vir te wees.\n",
      "\n",
      "--1--\n",
      "---Moral value---\n",
      "Gratitude – Emphasizing thankfulness for what one has and the kindness of others.\n",
      "\n",
      "---Generated story---\n",
      "Dankie, Ouma!\n",
      "\n",
      "’n Verhaal oor dankbaarheid\n",
      "\n",
      "Klein Karlien was ’n bietjie van ’n kla-kind. Alles was verkeerd. Haar pap was te warm, haar skoene te styf, en die son was te helder. Sy het haar ouma, Ouma Bettie, baie gepla. Ouma Bettie was ’n lieflike vrou met hande so sagte soos sagte-goed en ’n hart vol liefde.\n",
      "\n",
      "Een dag het Ouma Bettie vir Karlien ’n mooi, nuwe rooi rok gegee.  ’n Pragtige rok met blomme wat soos reën oor die stof versprei het. Maar Karlien het net haar lippe gefrons.  \"Dit is te kort!\" het sy gehuil. \"En die blomme is lelik! Ek wil ’n pienk een hê!\"\n",
      "\n",
      "Ouma Bettie het saggies geglimlag. Sy het Karlien se handjie vasgehou en saam met haar buite gaan sit onder die groot, koelte jakarandaboom.  \"Karlien, my kind,\" het sy gesê, haar stem so sag soos die wind in die mielies, \"kyk mooi rondom jou. Kyk na die pragtige blomme, hoor na die voëls se liedjies, en voel die warm son op jou vel.\"\n",
      "\n",
      "Karlien het eers regtig gekyk. Die blomme was inderdaad mooi, helder en so helder soos die somerson. Die voëls het vrolik gesing. Sy het gevoel hoe die warm son haar warm maak.\n",
      "\n",
      "\"Sien jy, Karlien?\" het Ouma Bettie gevra. \"Daar is soveel mooi dinge om dankbaar vir te wees. Jy het ’n huis om in te woon, kos om te eet, klere om aan te trek, en ’n ouma wat jou liefhet.  Jy het ’n gesonde lyf en ’n sterk hart. Jy het vriende. Is daar enige rede om nie dankbaar te wees nie?\"\n",
      "\n",
      "Karlien het vir ’n oomblik stil gebly. Sy het besef Ouma Bettie het reg gewees. Sy het haar arms om Ouma Bettie se nek gegooi en gesê: \"Ouma, ek is jammer. Ek is dankbaar vir die rok, en vir jou, en vir alles.\"\n",
      "\n",
      "Van daardie dag af was Karlien nie meer so baie ’n kla-kind nie. Sy het geleer om die klein dingetjies waardeer, en om dankie te sê vir alles wat sy gehad het. Sy het geleer dat dankbaarheid ’n wonderlike geskenk is, en dat dit jou hart vol maak met geluk. En elke keer as sy haar pragtige rooi rok aangehad het, het sy weer aan Ouma Bettie se woorde gedink, en haar hart het vol dankbaarheid geword.\n",
      "\n",
      "--2--\n",
      "---Moral value---\n",
      "Gratitude – Emphasizing thankfulness for what one has and the kindness of others.\n",
      "\n",
      "---Generated story---\n",
      "Klein Karoo se Groot Dankie\n",
      "\n",
      "Klein Karoo, ‘n klein bobbejaan met ‘n sagte, bruin pels, het in die pragtige Karoo gewoon. Hy was ‘n bietjie van ‘n verwonde bobbejaan. Hy het altyd gekla. “Ek wil ‘n nuwe baadjie hê!” sou hy huil. Of: “My avokado is te groen!”\n",
      "\n",
      "Een warm middag, terwyl die son sy helderste was, het Karoo se ma, ‘n wyse ou bobbejaan met sterk arms, hom na ‘n rivier toe geneem. Die rivier was vol vrolike bloublomme en die water was koel en vars. Karoo het sy oë toegemaak en die son se warmte op sy vel gevoel.\n",
      "\n",
      "Skielik het hy gesien: ‘n pragtige, blink blou klippie lê op die klippies langs die rivier. Hy het dit opgetel en dit in sy hand vasgehou. Die klippie was warmer as die son en so blink soos ‘n klein sterretjie.\n",
      "\n",
      "“Mamma, Mamma!” het Karoo geroep. “Kyk hierdie klippie! Die mooiste klippie wat ek ooit gesien het!”\n",
      "\n",
      "Sy ma het geglimlag. “Ja, my klein Karoo,” het sy gesê. “Dit is ‘n pragtige klippie. Maar onthou, daar is meer as net blink dinge.”\n",
      "\n",
      "Sy het hom gehelp om ‘n klein, groen avokado van ‘n boom af te pluk. “Hierdie avokado,” het sy verduidelik, “is dalk nie so blink soos die klippie nie, maar dit sal heerlik ryp en soet wees. En dit is ‘n gesonde kos.”\n",
      "\n",
      "Later daardie dag, terwyl hulle by die huis was, het ‘n ou bobbejaantjie, Oom Koos, aangekom. Oom Koos was bekend vir sy lekker koekies. Hy het vir Karoo en sy ma ‘n warm koekie gegee, so lekker en goudbruin soos die son by onder.\n",
      "\n",
      "“Dankie, Oom Koos!” het Karoo gesê, ‘n bietjie skaam. Hy het besef dat sy ma reg was. Daar was meer as net blink dinge. Daar was ook vriendelike harte, lekker kos en die geluk om saam te wees.\n",
      "\n",
      "Van toe af het Karoo se hart ‘n bietjie groter geword. Hy het begin om dankbaar te wees vir sy ma, vir die son, vir die klippie, vir die avokado, en vir Oom Koos se koekies. Hy het geleer dat dankbaarheid nie net oor blink dinge gaan nie, maar oor die goedheid in die wêreld en die liefde wat mense deel. En hy het geleer dat ‘n groot dankie, ‘n bietjie skaam, ‘n baie lang pad kan loop.\n",
      "\n"
     ]
    }
   ],
   "source": [
    "# Print the generated stories\n",
    "\n",
    "j = 7\n",
    "\n",
    "for i in range(0, 3):\n",
    "\n",
    "    moral_value = df_eval.loc[j, 'moral_value']\n",
    "\n",
    "   # Run inference\n",
    "    generated_story, _ = run_inference(moral_value)\n",
    "\n",
    "\n",
    "    print(f\"--{i}--\")\n",
    "    print('---Moral value---')\n",
    "    print(moral_value)\n",
    "    print()\n",
    "    print('---Generated story---')\n",
    "    print(generated_story)\n",
    "    print()"
   ]
  },
  {
   "cell_type": "markdown",
   "metadata": {
    "id": "-fT_PEnko0tI"
   },
   "source": [
    "## Check for originality\n",
    "\n",
    "Check that the model is not outputing stories that it has memorized from the training data.\n"
   ]
  },
  {
   "cell_type": "code",
   "execution_count": 40,
   "metadata": {
    "id": "rNrYcyV0teFQ",
    "outputId": "a586b616-5f7a-4e2b-9288-5442c4ed08e5"
   },
   "outputs": [
    {
     "data": {
      "application/vnd.jupyter.widget-view+json": {
       "model_id": "10e19088fe7544dc89913897772bcebd",
       "version_major": 2,
       "version_minor": 0
      },
      "text/plain": [
       "modules.json:   0%|          | 0.00/349 [00:00<?, ?B/s]"
      ]
     },
     "metadata": {},
     "output_type": "display_data"
    },
    {
     "data": {
      "application/vnd.jupyter.widget-view+json": {
       "model_id": "0f439968df2540d3ad10b07ae02144b5",
       "version_major": 2,
       "version_minor": 0
      },
      "text/plain": [
       "config_sentence_transformers.json:   0%|          | 0.00/116 [00:00<?, ?B/s]"
      ]
     },
     "metadata": {},
     "output_type": "display_data"
    },
    {
     "data": {
      "application/vnd.jupyter.widget-view+json": {
       "model_id": "df1cffdd526a4f89a314681096227c38",
       "version_major": 2,
       "version_minor": 0
      },
      "text/plain": [
       "README.md:   0%|          | 0.00/10.7k [00:00<?, ?B/s]"
      ]
     },
     "metadata": {},
     "output_type": "display_data"
    },
    {
     "data": {
      "application/vnd.jupyter.widget-view+json": {
       "model_id": "bdc1540633854dd6ba9906e43139eafc",
       "version_major": 2,
       "version_minor": 0
      },
      "text/plain": [
       "sentence_bert_config.json:   0%|          | 0.00/53.0 [00:00<?, ?B/s]"
      ]
     },
     "metadata": {},
     "output_type": "display_data"
    },
    {
     "data": {
      "application/vnd.jupyter.widget-view+json": {
       "model_id": "f9e55fa8d6874972a11f62bd2f232bf0",
       "version_major": 2,
       "version_minor": 0
      },
      "text/plain": [
       "config.json:   0%|          | 0.00/612 [00:00<?, ?B/s]"
      ]
     },
     "metadata": {},
     "output_type": "display_data"
    },
    {
     "data": {
      "application/vnd.jupyter.widget-view+json": {
       "model_id": "55fc89896ac947f8bf06ee5a3bb1b0b8",
       "version_major": 2,
       "version_minor": 0
      },
      "text/plain": [
       "model.safetensors:   0%|          | 0.00/90.9M [00:00<?, ?B/s]"
      ]
     },
     "metadata": {},
     "output_type": "display_data"
    },
    {
     "data": {
      "application/vnd.jupyter.widget-view+json": {
       "model_id": "b84ac9aa7bf0428a8bfa73c9be8d0ecc",
       "version_major": 2,
       "version_minor": 0
      },
      "text/plain": [
       "tokenizer_config.json:   0%|          | 0.00/350 [00:00<?, ?B/s]"
      ]
     },
     "metadata": {},
     "output_type": "display_data"
    },
    {
     "data": {
      "application/vnd.jupyter.widget-view+json": {
       "model_id": "a79e969bcdf9462fa780902d6b899970",
       "version_major": 2,
       "version_minor": 0
      },
      "text/plain": [
       "vocab.txt:   0%|          | 0.00/232k [00:00<?, ?B/s]"
      ]
     },
     "metadata": {},
     "output_type": "display_data"
    },
    {
     "data": {
      "application/vnd.jupyter.widget-view+json": {
       "model_id": "f0404a9f34814042bebb38c479dc3283",
       "version_major": 2,
       "version_minor": 0
      },
      "text/plain": [
       "tokenizer.json:   0%|          | 0.00/466k [00:00<?, ?B/s]"
      ]
     },
     "metadata": {},
     "output_type": "display_data"
    },
    {
     "data": {
      "application/vnd.jupyter.widget-view+json": {
       "model_id": "b14013d7b8924773b4799331b3cf2492",
       "version_major": 2,
       "version_minor": 0
      },
      "text/plain": [
       "special_tokens_map.json:   0%|          | 0.00/112 [00:00<?, ?B/s]"
      ]
     },
     "metadata": {},
     "output_type": "display_data"
    },
    {
     "data": {
      "application/vnd.jupyter.widget-view+json": {
       "model_id": "661c4c828ce141f99cbb15d8584ff85d",
       "version_major": 2,
       "version_minor": 0
      },
      "text/plain": [
       "1_Pooling/config.json:   0%|          | 0.00/190 [00:00<?, ?B/s]"
      ]
     },
     "metadata": {},
     "output_type": "display_data"
    },
    {
     "name": "stdout",
     "output_type": "stream",
     "text": [
      "(564, 384)\n",
      "Embedding length 384\n"
     ]
    }
   ],
   "source": [
    "from sentence_transformers import SentenceTransformer\n",
    "\n",
    "# Instantiate the model\n",
    "embed_model = SentenceTransformer(\"all-MiniLM-L6-v2\")\n",
    "\n",
    "# Create a list of stories that will be vectorized\n",
    "chunk_list = list(df_data['final_draft'])\n",
    "\n",
    "# Convert the train set stories into embeddings\n",
    "embeddings = embed_model.encode(chunk_list)\n",
    "\n",
    "print(embeddings.shape)\n",
    "print('Embedding length', embeddings.shape[1])\n"
   ]
  },
  {
   "cell_type": "code",
   "execution_count": 41,
   "metadata": {
    "id": "zP4XbDoBuUHo",
    "outputId": "151bb7ae-282e-4f8a-d2f2-f32ac95ca769"
   },
   "outputs": [
    {
     "data": {
      "text/plain": [
       "564"
      ]
     },
     "execution_count": 41,
     "metadata": {},
     "output_type": "execute_result"
    }
   ],
   "source": [
    "import faiss\n",
    "\n",
    "embed_length = embeddings.shape[1]\n",
    "\n",
    "index = faiss.IndexFlatL2(embed_length)\n",
    "\n",
    "# Add the embeddings to the index\n",
    "index.add(embeddings)\n",
    "\n",
    "# Check the total number of embeddings in the index\n",
    "index.ntotal"
   ]
  },
  {
   "cell_type": "code",
   "execution_count": 42,
   "metadata": {
    "id": "xlJeF6Mtiku3",
    "outputId": "34964728-ba3e-4317-fa72-43c2657e5191"
   },
   "outputs": [
    {
     "name": "stdout",
     "output_type": "stream",
     "text": [
      "Klein Leeutjie se Groot Moed\n",
      "\n",
      "Klein Leeutjie, met sy sagte, goue mannetjie, was bang. Bang vir die donker, bang vir die wind wat deur die gras fluister, en bo alles, bang vir die water.  Hy het op sy ma se rug gebly en geskree:  \"Ma, ek wil nie in die water gaan nie! Dit is te diep, te donker, te gevaarlik!\"\n",
      "\n",
      "Sy ma, ‘n pragtige leeufyn met ‘n sagte brul, het saggies gesê: \"Klein Leeutjie, my liefling, water is nie gevaarlik nie. Dit is lewe. Alles in die wêreld is bang vir iets, selfs ek. Maar moed is sterker as enige vrees.\"\n",
      "\n",
      "Sy het hom verduidelik dat die water vol kos is: vissies, paddas, en selfs sappige waterplante. Sy het hom gehelp om sy pote in die koel, sagte water te sit. Eers was hy bang, maar toe het die vrees begin verdwyn. Die water was nie so donker nie. Dit was meer soos ‘n groot, blink oog wat hom uitgenooi het.\n",
      "\n",
      "‘n Klein fissie het hom met sy kolle begroet. ‘n Padda het ‘n vrolike \"kerrekkerrek\" gemaak. Klein Leeutjie het gelag. Hy het begin om in die water te speel, sy pote soos klein pootjies in die modder. Hy het selfs begin om klein vissies te vang – nie om te eet nie, maar net om te speel.\n",
      "\n",
      "Die wind het gefluister, en die bome het saggies gewapper, maar Klein Leeutjie was nie meer bang nie. Hy was trots. Hy was dapper. Hy het sy vrees oorkom. Hy het geleer dat moed nie die afwesigheid van vrees is nie, maar die oorwinning daaroor. Hy het geleer dat die wêreld vol wonders is, en dat hy hulle net kan ontdek as hy dapper is.\n",
      "\n",
      "Toe die son ondergegaan het, was Klein Leeutjie nie bang vir die donker nie. Hy het in die warm son ondergedaal, sy goue mannetjie blinkend soos die sterre. Hy het geweet hy kon enigiets doen, want hy was dapper. Hy was Klein Leeutjie, die dapper leeutjie.\n"
     ]
    }
   ],
   "source": [
    "print(df_eval.loc[2, 'generated_story'])"
   ]
  },
  {
   "cell_type": "code",
   "execution_count": 43,
   "metadata": {
    "id": "Pzs3O0qJCEgz",
    "outputId": "297e8ac0-afd3-400e-bbb6-cdf36355bbb7"
   },
   "outputs": [
    {
     "name": "stdout",
     "output_type": "stream",
     "text": [
      "---Generated story---\n",
      "Klein Leeutjie se Groot Moed\n",
      "\n",
      "Klein Leeutjie, met sy sagte, goue mannetjie, was bang. Bang vir die donker, bang vir die wind wat deur die gras fluister, en bo alles, bang vir die water.  Hy het op sy ma se rug gebly en geskree:  \"Ma, ek wil nie in die water gaan nie! Dit is te diep, te donker, te gevaarlik!\"\n",
      "\n",
      "Sy ma, ‘n pragtige leeufyn met ‘n sagte brul, het saggies gesê: \"Klein Leeutjie, my liefling, water is nie gevaarlik nie. Dit is lewe. Alles in die wêreld is bang vir iets, selfs ek. Maar moed is sterker as enige vrees.\"\n",
      "\n",
      "Sy het hom verduidelik dat die water vol kos is: vissies, paddas, en selfs sappige waterplante. Sy het hom gehelp om sy pote in die koel, sagte water te sit. Eers was hy bang, maar toe het die vrees begin verdwyn. Die water was nie so donker nie. Dit was meer soos ‘n groot, blink oog wat hom uitgenooi het.\n",
      "\n",
      "‘n Klein fissie het hom met sy kolle begroet. ‘n Padda het ‘n vrolike \"kerrekkerrek\" gemaak. Klein Leeutjie het gelag. Hy het begin om in die water te speel, sy pote soos klein pootjies in die modder. Hy het selfs begin om klein vissies te vang – nie om te eet nie, maar net om te speel.\n",
      "\n",
      "Die wind het gefluister, en die bome het saggies gewapper, maar Klein Leeutjie was nie meer bang nie. Hy was trots. Hy was dapper. Hy het sy vrees oorkom. Hy het geleer dat moed nie die afwesigheid van vrees is nie, maar die oorwinning daaroor. Hy het geleer dat die wêreld vol wonders is, en dat hy hulle net kan ontdek as hy dapper is.\n",
      "\n",
      "Toe die son ondergegaan het, was Klein Leeutjie nie bang vir die donker nie. Hy het in die warm son ondergedaal, sy goue mannetjie blinkend soos die sterre. Hy het geweet hy kon enigiets doen, want hy was dapper. Hy was Klein Leeutjie, die dapper leeutjie.\n",
      "\n",
      "---Closest match in the train set---\n",
      "Klein Leeutjie se Groot Moed\n",
      "\n",
      "Klein Leeutjie was bang. Bang vir alles! Bang vir die wind wat deur die lang gras gefluister het, bang vir die akasiaboom se skaduwee, en bo alles, bang vir die watergat. Al die ander leeutjies het met vreugde in die koel water gespeel en rondgebaljaar, maar Klein Leeutjie het net op die droë grond gesit en gekyk. Hy wou so graag saam speel, maar sy hart het soos 'n trom geslaan elke keer as hy naby die water gekom het.\n",
      "\n",
      "Sy ma, 'n pragtige leeufin, het hom gesien sit. Sy het saggies na hom toe geloop en haar kop teen sy sagte lyfie geskuur.  \"Wat maak jou hart so bang, my Klein Leeutjie?\" het sy gevra.\n",
      "\n",
      "Klein Leeutjie het sy kop geskud en sy stert tussen sy pote ingeklem. \"Die water, Ma! Dit is te diep, te donker, te... eng!\" \n",
      "\n",
      "Sy ma het geglimlag. \"Eng dinge kan ook baie mooi wees, my kind. Kyk,\" het sy gesê en gewys na 'n groep blou reënboë wat in die water gespat het. \"Daardie kleure is net daar, in die water. Jy sal dit nooit sien as jy net van ver af kyk nie.\"\n",
      "\n",
      "Klein Leeutjie het stadig na die watergat gekyk. Die reënboë het hom betower. Hy het diep asem gehaal en begin stadig loop. Sy pootjies het geskud, maar hy het aangehou loop. Hy het sy neus in die water gesteek en 'n klein slokkie geneem. Dit was koud en verfrissend!\n",
      "\n",
      "Toe, met 'n skielike opwelling van moed, het hy in die water gespring! Die water was nie so diep of donker soos hy gedink het nie. Hy het rondgespat en gespeel met die ander leeutjies. Hulle het hom verwelkom en gejuig oor sy dapperheid.\n",
      "\n",
      "Daai dag het Klein Leeutjie geleer dat moed nie die afwesigheid van vrees is nie, maar die oorwinning daaroor. Hy het sy vrees oorkom, en as beloning het hy die pret, die vriendskap, en die skoonheid van die watergat ontdek. Van toe af was Klein Leeutjie nie meer bang vir die watergat nie – of vir enige ander ding wat hom voorheen bang gemaak het. Hy het verstaan: moed bring jou nader aan jou drome.\n"
     ]
    }
   ],
   "source": [
    "# Run a query\n",
    "j = 2\n",
    "moral_value = df_eval.loc[j, 'moral_value']\n",
    "query_text = df_eval.loc[j, 'generated_story']\n",
    "\n",
    "query = [query_text]\n",
    "\n",
    "# Vectorize the query string\n",
    "query_embedding = embed_model.encode(query)\n",
    "\n",
    "# Set the number of outputs we want\n",
    "top_k = 3\n",
    "\n",
    "# Run the query\n",
    "# index_vals refers to the chunk_list index values\n",
    "scores, index_vals = index.search(query_embedding, top_k)\n",
    "\n",
    "# Let's print the first match and see if\n",
    "# the match and the query are identical.\n",
    "# If they are identical it means the model\n",
    "# is outputting stories from the train set.\n",
    "\n",
    "pred_indexes = index_vals[0]\n",
    "\n",
    "i = 0 # top match\n",
    "chunk_index = pred_indexes[i]\n",
    "train_set_story = chunk_list[chunk_index]\n",
    "\n",
    "print('---Generated story---')\n",
    "print(query_text)\n",
    "print()\n",
    "print('---Closest match in the train set---')\n",
    "print(train_set_story)\n"
   ]
  },
  {
   "cell_type": "code",
   "execution_count": 44,
   "metadata": {
    "id": "F6QWWr-zCEsL",
    "outputId": "459866a8-cfc3-49fb-ac7a-e42ffc97077f"
   },
   "outputs": [
    {
     "name": "stdout",
     "output_type": "stream",
     "text": [
      "---Generated story---\n",
      "Klein Karoo se Groot Dankie\n",
      "\n",
      "Klein Karoo, ‘n klein bobbejaan met ‘n sagte, bruin pels, het in die pragtige Karoo gewoon. Hy was ‘n bietjie van ‘n verwonde bobbejaan. Hy het altyd gekla. “Ek wil ‘n nuwe baadjie hê!” sou hy huil. Of: “My avokado is te groen!”\n",
      "\n",
      "Een warm middag, terwyl die son sy helderste was, het Karoo se ma, ‘n wyse ou bobbejaan met sterk arms, hom na ‘n rivier toe geneem. Die rivier was vol vrolike bloublomme en die water was koel en vars. Karoo het sy oë toegemaak en die son se warmte op sy vel gevoel.\n",
      "\n",
      "Skielik het hy gesien: ‘n pragtige, blink blou klippie lê op die klippies langs die rivier. Hy het dit opgetel en dit in sy hand vasgehou. Die klippie was warmer as die son en so blink soos ‘n klein sterretjie.\n",
      "\n",
      "“Mamma, Mamma!” het Karoo geroep. “Kyk hierdie klippie! Die mooiste klippie wat ek ooit gesien het!”\n",
      "\n",
      "Sy ma het geglimlag. “Ja, my klein Karoo,” het sy gesê. “Dit is ‘n pragtige klippie. Maar onthou, daar is meer as net blink dinge.”\n",
      "\n",
      "Sy het hom gehelp om ‘n klein, groen avokado van ‘n boom af te pluk. “Hierdie avokado,” het sy verduidelik, “is dalk nie so blink soos die klippie nie, maar dit sal heerlik ryp en soet wees. En dit is ‘n gesonde kos.”\n",
      "\n",
      "Later daardie dag, terwyl hulle by die huis was, het ‘n ou bobbejaantjie, Oom Koos, aangekom. Oom Koos was bekend vir sy lekker koekies. Hy het vir Karoo en sy ma ‘n warm koekie gegee, so lekker en goudbruin soos die son by onder.\n",
      "\n",
      "“Dankie, Oom Koos!” het Karoo gesê, ‘n bietjie skaam. Hy het besef dat sy ma reg was. Daar was meer as net blink dinge. Daar was ook vriendelike harte, lekker kos en die geluk om saam te wees.\n",
      "\n",
      "Van toe af het Karoo se hart ‘n bietjie groter geword. Hy het begin om dankbaar te wees vir sy ma, vir die son, vir die klippie, vir die avokado, en vir Oom Koos se koekies. Hy het geleer dat dankbaarheid nie net oor blink dinge gaan nie, maar oor die goedheid in die wêreld en die liefde wat mense deel. En hy het geleer dat ‘n groot dankie, ‘n bietjie skaam, ‘n baie lang pad kan loop.\n",
      "\n",
      "---Closest match in the train set---\n",
      "Klein Voete, Groot Vriende\n",
      "\n",
      "Klein Karlien, met haar rooi krulle en sproetneus, het baie daarvan gehou om in die sand te speel. Haar beste vriend was die groot, sterk Bongani, met sy donkerbruin vel en ’n lag wat die son laat skyn het. Hulle het albei skoen nommer 24 gedra – klein voetjies vir groot avonture!\n",
      "\n",
      "Een middag het hulle by die rivier gespeel. Karlien het ’n pragtige sandkasteel gebou, met torings en mure. Bongani het haar gehelp om water te dra vir die slote. ’n Klein dogtertjie, Thandi, met haar lang, swart vlegsels, het stilletjies nader gesluip. Sy was skaam, want sy het nog nooit met ander kinders gespeel nie.\n",
      "\n",
      "Karlien het haar gesien en gewink.  \"Kom speel saam met ons, Thandi!\" het sy uitgenooi.\n",
      "\n",
      "Thandi het aarselend gekyk na Bongani se donker vel en toe weer na Karlien se rooi hare. Sy was bang sy sou nie welkom wees nie.\n",
      "\n",
      "Bongani het wyd geglimlag. \"Kom aan, Thandi! Ons bou ’n nog groter kasteel!\" Hy het ’n hand vol mooi, gladde klippies opgetel en dit vir Thandi aangebied.\n",
      "\n",
      "Thandi het verlig gelyk. Sy het die klippies geneem en met ’n glimlag by die kasteel begin werk. Saam het hulle die kasteel versier met blomme, skulpe en klippies. Hulle het gelag, gesing en pret gemaak. Die rivier se geruis was hulle musiek, die son hulle warmte.\n",
      "\n",
      "’n Ouma het langs die rivier gesit en hulle dopgehou. Sy het breed geglimlag. Sy het gesien hoe hulle, ten spyte van hulle verskillende kleure, saam gespeel het asof hulle altyd vriende gewees het. Hulle het gedeel, gehelp en mekaar laat lag.\n",
      "\n",
      "Toe die son begin sak het, was hulle kasteel ’n meesterstuk. Karlien, Bongani en Thandi het elkeen ’n hand vol nat sand geneem en dit op mekaar gespat, laggende tot hulle ore seer was. Hulle het geweet dat hulle almal, ongeag die kleur van hulle vel, besondere vriende was. Want ware vriendskap is nie van kleur afhanklik nie; dit groei uit ’n hart vol liefde en respek. En hulle klein voetjies het groot avonture, vol vriendskap, beloof.\n"
     ]
    }
   ],
   "source": [
    "# Run a query\n",
    "j = 1\n",
    "moral_value = df_eval.loc[j, 'moral_value']\n",
    "query_text = df_eval.loc[j, 'generated_story']\n",
    "\n",
    "query = [query_text]\n",
    "\n",
    "# Vectorize the query string\n",
    "query_embedding = embed_model.encode(query)\n",
    "\n",
    "# Set the number of outputs we want\n",
    "top_k = 3\n",
    "\n",
    "# Run the query\n",
    "# index_vals refers to the chunk_list index values\n",
    "scores, index_vals = index.search(query_embedding, top_k)\n",
    "\n",
    "# Let's print the first match and see if\n",
    "# the match and the query are identical.\n",
    "# If they are identical it means the model\n",
    "# is outputting stories from the train set.\n",
    "\n",
    "pred_indexes = index_vals[0]\n",
    "\n",
    "i = 0 # top match\n",
    "chunk_index = pred_indexes[i]\n",
    "train_set_story = chunk_list[chunk_index]\n",
    "\n",
    "print('---Generated story---')\n",
    "print(generated_story)\n",
    "print()\n",
    "print('---Closest match in the train set---')\n",
    "print(train_set_story)\n"
   ]
  },
  {
   "cell_type": "code",
   "execution_count": null,
   "metadata": {
    "id": "ykTOhuTeCE2E"
   },
   "outputs": [],
   "source": []
  },
  {
   "cell_type": "code",
   "execution_count": null,
   "metadata": {
    "id": "Ro3PFz6pCE-H"
   },
   "outputs": [],
   "source": []
  },
  {
   "cell_type": "code",
   "execution_count": null,
   "metadata": {
    "id": "FqIBAs14CFIn"
   },
   "outputs": [],
   "source": []
  },
  {
   "cell_type": "code",
   "execution_count": 45,
   "metadata": {
    "id": "s_-1bpZPSxsa",
    "papermill": {
     "duration": 0.040797,
     "end_time": "2024-08-31T10:14:23.716145",
     "exception": false,
     "start_time": "2024-08-31T10:14:23.675348",
     "status": "completed"
    },
    "tags": []
   },
   "outputs": [
    {
     "name": "stderr",
     "output_type": "stream",
     "text": [
      "huggingface/tokenizers: The current process just got forked, after parallelism has already been used. Disabling parallelism to avoid deadlocks...\n",
      "To disable this warning, you can either:\n",
      "\t- Avoid using `tokenizers` before the fork if possible\n",
      "\t- Explicitly set the environment variable TOKENIZERS_PARALLELISM=(true | false)\n"
     ]
    }
   ],
   "source": [
    "# Create a requirements.txt file\n",
    "!pip freeze > requirements.txt"
   ]
  },
  {
   "cell_type": "code",
   "execution_count": null,
   "metadata": {
    "id": "izyLeyWTAzCD"
   },
   "outputs": [],
   "source": []
  }
 ],
 "metadata": {
  "accelerator": "GPU",
  "colab": {
   "gpuType": "T4",
   "provenance": []
  },
  "kaggle": {
   "accelerator": "nvidiaTeslaT4",
   "dataSources": [
    {
     "databundleVersionId": 9690815,
     "sourceId": 85416,
     "sourceType": "competition"
    },
    {
     "datasetId": 5600664,
     "sourceId": 9256827,
     "sourceType": "datasetVersion"
    },
    {
     "sourceId": 201264410,
     "sourceType": "kernelVersion"
    }
   ],
   "dockerImageVersionId": 30786,
   "isGpuEnabled": true,
   "isInternetEnabled": true,
   "language": "python",
   "sourceType": "notebook"
  },
  "kernelspec": {
   "display_name": "Python 3 (ipykernel)",
   "language": "python",
   "name": "python3"
  },
  "language_info": {
   "codemirror_mode": {
    "name": "ipython",
    "version": 3
   },
   "file_extension": ".py",
   "mimetype": "text/x-python",
   "name": "python",
   "nbconvert_exporter": "python",
   "pygments_lexer": "ipython3",
   "version": "3.10.12"
  },
  "papermill": {
   "default_parameters": {},
   "duration": 381.6077,
   "end_time": "2024-08-31T10:14:26.483127",
   "environment_variables": {},
   "exception": null,
   "input_path": "__notebook__.ipynb",
   "output_path": "__notebook__.ipynb",
   "parameters": {},
   "start_time": "2024-08-31T10:08:04.875427",
   "version": "2.5.0"
  }
 },
 "nbformat": 4,
 "nbformat_minor": 4
}
